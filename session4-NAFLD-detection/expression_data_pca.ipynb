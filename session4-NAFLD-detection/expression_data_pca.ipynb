{
 "cells": [
  {
   "cell_type": "code",
   "execution_count": 36,
   "id": "a173ca2c-5e4c-47ca-9b83-ff144f98c107",
   "metadata": {},
   "outputs": [],
   "source": [
    "import pandas as pd\n",
    "import numpy as np\n",
    "import matplotlib.pyplot as plt\n",
    "from sklearn.preprocessing import StandardScaler\n",
    "from sklearn.preprocessing import OneHotEncoder\n",
    "from sklearn.model_selection import train_test_split, GridSearchCV\n",
    "from sklearn.decomposition import PCA\n",
    "from sklearn.linear_model import LogisticRegression\n",
    "from sklearn.svm import SVC\n",
    "from sklearn.ensemble import RandomForestClassifier\n",
    "from sklearn.neighbors import KNeighborsClassifier\n",
    "from sklearn.metrics import f1_score, classification_report, make_scorer\n",
    "from tensorflow.keras.models import Sequential\n",
    "from tensorflow.keras.layers import Dense, Dropout\n",
    "from tensorflow.keras.optimizers import Adam\n",
    "from tensorflow.keras import backend as K\n",
    "from tensorflow.keras.callbacks import ModelCheckpoint\n",
    "from tensorflow.keras.callbacks import EarlyStopping\n",
    "import tensorflow as tf"
   ]
  },
  {
   "cell_type": "code",
   "execution_count": 2,
   "id": "7006bfbe-bc92-4397-a3f3-d48ebbcd51a1",
   "metadata": {},
   "outputs": [
    {
     "data": {
      "text/html": [
       "<div>\n",
       "<style scoped>\n",
       "    .dataframe tbody tr th:only-of-type {\n",
       "        vertical-align: middle;\n",
       "    }\n",
       "\n",
       "    .dataframe tbody tr th {\n",
       "        vertical-align: top;\n",
       "    }\n",
       "\n",
       "    .dataframe thead th {\n",
       "        text-align: right;\n",
       "    }\n",
       "</style>\n",
       "<table border=\"1\" class=\"dataframe\">\n",
       "  <thead>\n",
       "    <tr style=\"text-align: right;\">\n",
       "      <th></th>\n",
       "      <th>Unnamed: 0</th>\n",
       "      <th>ENSG00000000003</th>\n",
       "      <th>ENSG00000000005</th>\n",
       "      <th>ENSG00000000460</th>\n",
       "      <th>ENSG00000000938</th>\n",
       "      <th>ENSG00000000971</th>\n",
       "      <th>ENSG00000001084</th>\n",
       "      <th>ENSG00000001167</th>\n",
       "      <th>ENSG00000001460</th>\n",
       "      <th>ENSG00000001617</th>\n",
       "      <th>...</th>\n",
       "      <th>ENSG00000272305</th>\n",
       "      <th>ENSG00000272414</th>\n",
       "      <th>ENSG00000272442</th>\n",
       "      <th>ENSG00000272658</th>\n",
       "      <th>ENSG00000272869</th>\n",
       "      <th>ENSG00000273079</th>\n",
       "      <th>ENSG00000273173</th>\n",
       "      <th>ENSG00000273274</th>\n",
       "      <th>ENSG00000273294</th>\n",
       "      <th>group</th>\n",
       "    </tr>\n",
       "  </thead>\n",
       "  <tbody>\n",
       "    <tr>\n",
       "      <th>0</th>\n",
       "      <td>0</td>\n",
       "      <td>5.965571</td>\n",
       "      <td>1.612375</td>\n",
       "      <td>4.150662</td>\n",
       "      <td>2.975845</td>\n",
       "      <td>11.005488</td>\n",
       "      <td>6.825329</td>\n",
       "      <td>4.221450</td>\n",
       "      <td>2.884834</td>\n",
       "      <td>2.213457</td>\n",
       "      <td>...</td>\n",
       "      <td>0.265925</td>\n",
       "      <td>-0.005377</td>\n",
       "      <td>1.546032</td>\n",
       "      <td>1.365460</td>\n",
       "      <td>0.691230</td>\n",
       "      <td>5.637483</td>\n",
       "      <td>-0.005377</td>\n",
       "      <td>2.683536</td>\n",
       "      <td>-0.339797</td>\n",
       "      <td>NaN</td>\n",
       "    </tr>\n",
       "    <tr>\n",
       "      <th>1</th>\n",
       "      <td>1</td>\n",
       "      <td>5.741587</td>\n",
       "      <td>2.147793</td>\n",
       "      <td>3.732756</td>\n",
       "      <td>3.199989</td>\n",
       "      <td>10.860700</td>\n",
       "      <td>6.453687</td>\n",
       "      <td>4.218183</td>\n",
       "      <td>3.199989</td>\n",
       "      <td>2.543722</td>\n",
       "      <td>...</td>\n",
       "      <td>0.101500</td>\n",
       "      <td>-0.515172</td>\n",
       "      <td>1.806756</td>\n",
       "      <td>0.935490</td>\n",
       "      <td>1.004202</td>\n",
       "      <td>5.975612</td>\n",
       "      <td>0.532134</td>\n",
       "      <td>2.926666</td>\n",
       "      <td>0.435919</td>\n",
       "      <td>NaN</td>\n",
       "    </tr>\n",
       "    <tr>\n",
       "      <th>2</th>\n",
       "      <td>2</td>\n",
       "      <td>5.996891</td>\n",
       "      <td>0.418542</td>\n",
       "      <td>3.634637</td>\n",
       "      <td>2.949733</td>\n",
       "      <td>10.934025</td>\n",
       "      <td>6.437658</td>\n",
       "      <td>3.736947</td>\n",
       "      <td>2.683041</td>\n",
       "      <td>2.373873</td>\n",
       "      <td>...</td>\n",
       "      <td>-0.184123</td>\n",
       "      <td>-0.546693</td>\n",
       "      <td>1.127079</td>\n",
       "      <td>0.675699</td>\n",
       "      <td>0.943633</td>\n",
       "      <td>5.531648</td>\n",
       "      <td>-0.184123</td>\n",
       "      <td>2.260662</td>\n",
       "      <td>-0.691083</td>\n",
       "      <td>NaN</td>\n",
       "    </tr>\n",
       "    <tr>\n",
       "      <th>3</th>\n",
       "      <td>3</td>\n",
       "      <td>5.551919</td>\n",
       "      <td>0.702492</td>\n",
       "      <td>3.853979</td>\n",
       "      <td>2.991061</td>\n",
       "      <td>10.760445</td>\n",
       "      <td>6.710840</td>\n",
       "      <td>4.003661</td>\n",
       "      <td>2.991061</td>\n",
       "      <td>2.712760</td>\n",
       "      <td>...</td>\n",
       "      <td>-0.178864</td>\n",
       "      <td>2.538993</td>\n",
       "      <td>1.301129</td>\n",
       "      <td>0.702492</td>\n",
       "      <td>0.431190</td>\n",
       "      <td>5.571799</td>\n",
       "      <td>-0.034474</td>\n",
       "      <td>2.341393</td>\n",
       "      <td>0.096771</td>\n",
       "      <td>NaN</td>\n",
       "    </tr>\n",
       "    <tr>\n",
       "      <th>4</th>\n",
       "      <td>4</td>\n",
       "      <td>6.430237</td>\n",
       "      <td>1.215978</td>\n",
       "      <td>3.614220</td>\n",
       "      <td>2.836130</td>\n",
       "      <td>11.491427</td>\n",
       "      <td>7.437655</td>\n",
       "      <td>4.377965</td>\n",
       "      <td>1.794991</td>\n",
       "      <td>2.189011</td>\n",
       "      <td>...</td>\n",
       "      <td>-0.079478</td>\n",
       "      <td>-1.216981</td>\n",
       "      <td>0.161530</td>\n",
       "      <td>0.898496</td>\n",
       "      <td>0.085581</td>\n",
       "      <td>5.636848</td>\n",
       "      <td>-1.216981</td>\n",
       "      <td>1.351861</td>\n",
       "      <td>-0.079478</td>\n",
       "      <td>NaN</td>\n",
       "    </tr>\n",
       "  </tbody>\n",
       "</table>\n",
       "<p>5 rows × 11547 columns</p>\n",
       "</div>"
      ],
      "text/plain": [
       "   Unnamed: 0  ENSG00000000003  ENSG00000000005  ENSG00000000460  \\\n",
       "0           0         5.965571         1.612375         4.150662   \n",
       "1           1         5.741587         2.147793         3.732756   \n",
       "2           2         5.996891         0.418542         3.634637   \n",
       "3           3         5.551919         0.702492         3.853979   \n",
       "4           4         6.430237         1.215978         3.614220   \n",
       "\n",
       "   ENSG00000000938  ENSG00000000971  ENSG00000001084  ENSG00000001167  \\\n",
       "0         2.975845        11.005488         6.825329         4.221450   \n",
       "1         3.199989        10.860700         6.453687         4.218183   \n",
       "2         2.949733        10.934025         6.437658         3.736947   \n",
       "3         2.991061        10.760445         6.710840         4.003661   \n",
       "4         2.836130        11.491427         7.437655         4.377965   \n",
       "\n",
       "   ENSG00000001460  ENSG00000001617  ...  ENSG00000272305  ENSG00000272414  \\\n",
       "0         2.884834         2.213457  ...         0.265925        -0.005377   \n",
       "1         3.199989         2.543722  ...         0.101500        -0.515172   \n",
       "2         2.683041         2.373873  ...        -0.184123        -0.546693   \n",
       "3         2.991061         2.712760  ...        -0.178864         2.538993   \n",
       "4         1.794991         2.189011  ...        -0.079478        -1.216981   \n",
       "\n",
       "   ENSG00000272442  ENSG00000272658  ENSG00000272869  ENSG00000273079  \\\n",
       "0         1.546032         1.365460         0.691230         5.637483   \n",
       "1         1.806756         0.935490         1.004202         5.975612   \n",
       "2         1.127079         0.675699         0.943633         5.531648   \n",
       "3         1.301129         0.702492         0.431190         5.571799   \n",
       "4         0.161530         0.898496         0.085581         5.636848   \n",
       "\n",
       "   ENSG00000273173  ENSG00000273274  ENSG00000273294  group  \n",
       "0        -0.005377         2.683536        -0.339797    NaN  \n",
       "1         0.532134         2.926666         0.435919    NaN  \n",
       "2        -0.184123         2.260662        -0.691083    NaN  \n",
       "3        -0.034474         2.341393         0.096771    NaN  \n",
       "4        -1.216981         1.351861        -0.079478    NaN  \n",
       "\n",
       "[5 rows x 11547 columns]"
      ]
     },
     "execution_count": 2,
     "metadata": {},
     "output_type": "execute_result"
    }
   ],
   "source": [
    "data = pd.read_csv('../data/feature_selected_data.csv')\n",
    "data.head()"
   ]
  },
  {
   "cell_type": "code",
   "execution_count": 3,
   "id": "486747c1-4747-4fcc-bc37-c10b5f87a7da",
   "metadata": {},
   "outputs": [],
   "source": [
    "data.drop(columns=data.columns[0], inplace=True)"
   ]
  },
  {
   "cell_type": "code",
   "execution_count": 4,
   "id": "5531f55d-6a94-4ddf-a653-cfb55aa51cc0",
   "metadata": {},
   "outputs": [],
   "source": [
    "# fix values of last column: group\n",
    "expression_data = pd.read_csv('../data/expression_data.csv')\n",
    "data['group'] = expression_data['Simplified_class']\n",
    "del expression_data"
   ]
  },
  {
   "cell_type": "code",
   "execution_count": 5,
   "id": "21f87afd-7fd6-42a0-8672-59119aba21d8",
   "metadata": {},
   "outputs": [
    {
     "data": {
      "text/plain": [
       "0    Normal\n",
       "1    Normal\n",
       "2    Normal\n",
       "3    Normal\n",
       "4    Normal\n",
       "Name: group, dtype: object"
      ]
     },
     "execution_count": 5,
     "metadata": {},
     "output_type": "execute_result"
    }
   ],
   "source": [
    "data.group.head()"
   ]
  },
  {
   "cell_type": "code",
   "execution_count": 6,
   "id": "47ea01d4-8b4d-43f2-acb6-530a2b697ff7",
   "metadata": {},
   "outputs": [
    {
     "data": {
      "text/plain": [
       "group\n",
       "Normal                   74\n",
       "Advanced_fibrosis        65\n",
       "Non_advanced_Fibrosis    53\n",
       "Name: count, dtype: int64"
      ]
     },
     "execution_count": 6,
     "metadata": {},
     "output_type": "execute_result"
    }
   ],
   "source": [
    "# check values of 'group' column\n",
    "data.group.value_counts()"
   ]
  },
  {
   "cell_type": "code",
   "execution_count": 7,
   "id": "0ca4869f-8d7a-4b03-859d-840633cfb827",
   "metadata": {},
   "outputs": [],
   "source": [
    "X = data.drop('group', axis=1)\n",
    "y = data.group"
   ]
  },
  {
   "cell_type": "code",
   "execution_count": 8,
   "id": "4f3279b2-71a7-4fc5-bcda-142a289137c4",
   "metadata": {},
   "outputs": [],
   "source": [
    "X_train, X_temp, y_train, y_temp = train_test_split(X, y, random_state=24, test_size=0.2)\n",
    "X_val, X_test, y_val, y_test = train_test_split(X_temp, y_temp, random_state=24, test_size=0.5)"
   ]
  },
  {
   "cell_type": "code",
   "execution_count": 9,
   "id": "c4fcbdd4-6ee0-4923-a562-626aeef2a049",
   "metadata": {},
   "outputs": [],
   "source": [
    "scaler = StandardScaler()\n",
    "X_train_scaled = scaler.fit_transform(X_train)"
   ]
  },
  {
   "cell_type": "code",
   "execution_count": 10,
   "id": "4f646d80-a0d6-4faa-94e8-d05cfe2ba2ae",
   "metadata": {},
   "outputs": [],
   "source": [
    "pca = PCA()\n",
    "X_train_reduced = pca.fit_transform(X_train_scaled)\n",
    "pca.n_components"
   ]
  },
  {
   "cell_type": "code",
   "execution_count": 11,
   "id": "f1ab6de4-828b-493c-b7ea-751f9e91a91d",
   "metadata": {},
   "outputs": [
    {
     "data": {
      "text/plain": [
       "153"
      ]
     },
     "execution_count": 11,
     "metadata": {},
     "output_type": "execute_result"
    }
   ],
   "source": [
    "pca.n_components_"
   ]
  },
  {
   "cell_type": "markdown",
   "id": "504fa5a7-46f9-4c8b-978f-0dae952f52e1",
   "metadata": {},
   "source": [
    "## Model Selection "
   ]
  },
  {
   "cell_type": "code",
   "execution_count": 12,
   "id": "df69afbf-fa39-46d5-b705-1b2cc8c26fb7",
   "metadata": {},
   "outputs": [],
   "source": [
    "# Logistic Regression \n",
    "log_reg = LogisticRegression(max_iter=1000)\n",
    "log_reg.fit(X_train_reduced, y_train)\n",
    "# SVM\n",
    "svc = SVC()\n",
    "svc.fit(X_train_reduced, y_train)\n",
    "# Random Forest\n",
    "rf = RandomForestClassifier()\n",
    "rf.fit(X_train_reduced, y_train)\n",
    "# KNN\n",
    "knn = KNeighborsClassifier()\n",
    "knn.fit(X_train_reduced, y_train);"
   ]
  },
  {
   "cell_type": "code",
   "execution_count": 13,
   "id": "3e00a863-73ad-491a-abad-9a72bfce390c",
   "metadata": {},
   "outputs": [],
   "source": [
    "# validation data preprocessing\n",
    "X_val_scaled = scaler.transform(X_val)\n",
    "X_val_reduced = pca.transform(X_val_scaled)\n",
    "encoder = OneHotEncoder()\n",
    "y_train_encoded = encoder.fit_transform(y_train.values.reshape(-1, 1)).toarray()\n",
    "y_val_encoded = encoder.transform(y_val.values.reshape(-1, 1)).toarray()"
   ]
  },
  {
   "cell_type": "code",
   "execution_count": 14,
   "id": "10a67dc4-4f04-4cd6-b671-22050cb21f81",
   "metadata": {},
   "outputs": [
    {
     "name": "stderr",
     "output_type": "stream",
     "text": [
      "/home/ali/anaconda3/lib/python3.11/site-packages/keras/src/layers/core/dense.py:87: UserWarning: Do not pass an `input_shape`/`input_dim` argument to a layer. When using Sequential models, prefer using an `Input(shape)` object as the first layer in the model instead.\n",
      "  super().__init__(activity_regularizer=activity_regularizer, **kwargs)\n"
     ]
    }
   ],
   "source": [
    "# defining model\n",
    "model = Sequential()\n",
    "model.add(Dense(64, input_shape=(153,), activation='relu')) \n",
    "model.add(Dropout(0.5))  \n",
    "model.add(Dense(32, activation='relu'))\n",
    "model.add(Dropout(0.5))\n",
    "model.add(Dense(3, activation='softmax')) "
   ]
  },
  {
   "cell_type": "code",
   "execution_count": 15,
   "id": "307a35fc-c3e5-46dc-be24-16f25ae47a0e",
   "metadata": {},
   "outputs": [],
   "source": [
    "# f1 metric for training neural network\n",
    "def f1_score(y_true, y_pred):\n",
    "    y_pred = K.round(y_pred)\n",
    "    tp = K.sum(K.cast(y_true * y_pred, 'float'), axis=0)\n",
    "    fp = K.sum(K.cast((1-y_true) * y_pred, 'float'), axis=0)\n",
    "    fn = K.sum(K.cast(y_true * (1-y_pred), 'float'), axis=0)\n",
    "\n",
    "    p = tp / (tp + fp + K.epsilon())\n",
    "    r = tp / (tp + fn + K.epsilon())\n",
    "\n",
    "    f1 = 2*p*r / (p+r+K.epsilon())\n",
    "    f1 = tf.where(tf.math.is_nan(f1), tf.zeros_like(f1), f1)\n",
    "    return K.mean(f1)"
   ]
  },
  {
   "cell_type": "code",
   "execution_count": 16,
   "id": "3f5a3022-34b4-4301-9678-9e5679d59e3e",
   "metadata": {
    "scrolled": true
   },
   "outputs": [
    {
     "data": {
      "text/html": [
       "<pre style=\"white-space:pre;overflow-x:auto;line-height:normal;font-family:Menlo,'DejaVu Sans Mono',consolas,'Courier New',monospace\"><span style=\"font-weight: bold\">Model: \"sequential\"</span>\n",
       "</pre>\n"
      ],
      "text/plain": [
       "\u001b[1mModel: \"sequential\"\u001b[0m\n"
      ]
     },
     "metadata": {},
     "output_type": "display_data"
    },
    {
     "data": {
      "text/html": [
       "<pre style=\"white-space:pre;overflow-x:auto;line-height:normal;font-family:Menlo,'DejaVu Sans Mono',consolas,'Courier New',monospace\">┏━━━━━━━━━━━━━━━━━━━━━━━━━━━━━━━━━┳━━━━━━━━━━━━━━━━━━━━━━━━┳━━━━━━━━━━━━━━━┓\n",
       "┃<span style=\"font-weight: bold\"> Layer (type)                    </span>┃<span style=\"font-weight: bold\"> Output Shape           </span>┃<span style=\"font-weight: bold\">       Param # </span>┃\n",
       "┡━━━━━━━━━━━━━━━━━━━━━━━━━━━━━━━━━╇━━━━━━━━━━━━━━━━━━━━━━━━╇━━━━━━━━━━━━━━━┩\n",
       "│ dense (<span style=\"color: #0087ff; text-decoration-color: #0087ff\">Dense</span>)                   │ (<span style=\"color: #00d7ff; text-decoration-color: #00d7ff\">None</span>, <span style=\"color: #00af00; text-decoration-color: #00af00\">64</span>)             │         <span style=\"color: #00af00; text-decoration-color: #00af00\">9,856</span> │\n",
       "├─────────────────────────────────┼────────────────────────┼───────────────┤\n",
       "│ dropout (<span style=\"color: #0087ff; text-decoration-color: #0087ff\">Dropout</span>)               │ (<span style=\"color: #00d7ff; text-decoration-color: #00d7ff\">None</span>, <span style=\"color: #00af00; text-decoration-color: #00af00\">64</span>)             │             <span style=\"color: #00af00; text-decoration-color: #00af00\">0</span> │\n",
       "├─────────────────────────────────┼────────────────────────┼───────────────┤\n",
       "│ dense_1 (<span style=\"color: #0087ff; text-decoration-color: #0087ff\">Dense</span>)                 │ (<span style=\"color: #00d7ff; text-decoration-color: #00d7ff\">None</span>, <span style=\"color: #00af00; text-decoration-color: #00af00\">32</span>)             │         <span style=\"color: #00af00; text-decoration-color: #00af00\">2,080</span> │\n",
       "├─────────────────────────────────┼────────────────────────┼───────────────┤\n",
       "│ dropout_1 (<span style=\"color: #0087ff; text-decoration-color: #0087ff\">Dropout</span>)             │ (<span style=\"color: #00d7ff; text-decoration-color: #00d7ff\">None</span>, <span style=\"color: #00af00; text-decoration-color: #00af00\">32</span>)             │             <span style=\"color: #00af00; text-decoration-color: #00af00\">0</span> │\n",
       "├─────────────────────────────────┼────────────────────────┼───────────────┤\n",
       "│ dense_2 (<span style=\"color: #0087ff; text-decoration-color: #0087ff\">Dense</span>)                 │ (<span style=\"color: #00d7ff; text-decoration-color: #00d7ff\">None</span>, <span style=\"color: #00af00; text-decoration-color: #00af00\">3</span>)              │            <span style=\"color: #00af00; text-decoration-color: #00af00\">99</span> │\n",
       "└─────────────────────────────────┴────────────────────────┴───────────────┘\n",
       "</pre>\n"
      ],
      "text/plain": [
       "┏━━━━━━━━━━━━━━━━━━━━━━━━━━━━━━━━━┳━━━━━━━━━━━━━━━━━━━━━━━━┳━━━━━━━━━━━━━━━┓\n",
       "┃\u001b[1m \u001b[0m\u001b[1mLayer (type)                   \u001b[0m\u001b[1m \u001b[0m┃\u001b[1m \u001b[0m\u001b[1mOutput Shape          \u001b[0m\u001b[1m \u001b[0m┃\u001b[1m \u001b[0m\u001b[1m      Param #\u001b[0m\u001b[1m \u001b[0m┃\n",
       "┡━━━━━━━━━━━━━━━━━━━━━━━━━━━━━━━━━╇━━━━━━━━━━━━━━━━━━━━━━━━╇━━━━━━━━━━━━━━━┩\n",
       "│ dense (\u001b[38;5;33mDense\u001b[0m)                   │ (\u001b[38;5;45mNone\u001b[0m, \u001b[38;5;34m64\u001b[0m)             │         \u001b[38;5;34m9,856\u001b[0m │\n",
       "├─────────────────────────────────┼────────────────────────┼───────────────┤\n",
       "│ dropout (\u001b[38;5;33mDropout\u001b[0m)               │ (\u001b[38;5;45mNone\u001b[0m, \u001b[38;5;34m64\u001b[0m)             │             \u001b[38;5;34m0\u001b[0m │\n",
       "├─────────────────────────────────┼────────────────────────┼───────────────┤\n",
       "│ dense_1 (\u001b[38;5;33mDense\u001b[0m)                 │ (\u001b[38;5;45mNone\u001b[0m, \u001b[38;5;34m32\u001b[0m)             │         \u001b[38;5;34m2,080\u001b[0m │\n",
       "├─────────────────────────────────┼────────────────────────┼───────────────┤\n",
       "│ dropout_1 (\u001b[38;5;33mDropout\u001b[0m)             │ (\u001b[38;5;45mNone\u001b[0m, \u001b[38;5;34m32\u001b[0m)             │             \u001b[38;5;34m0\u001b[0m │\n",
       "├─────────────────────────────────┼────────────────────────┼───────────────┤\n",
       "│ dense_2 (\u001b[38;5;33mDense\u001b[0m)                 │ (\u001b[38;5;45mNone\u001b[0m, \u001b[38;5;34m3\u001b[0m)              │            \u001b[38;5;34m99\u001b[0m │\n",
       "└─────────────────────────────────┴────────────────────────┴───────────────┘\n"
      ]
     },
     "metadata": {},
     "output_type": "display_data"
    },
    {
     "data": {
      "text/html": [
       "<pre style=\"white-space:pre;overflow-x:auto;line-height:normal;font-family:Menlo,'DejaVu Sans Mono',consolas,'Courier New',monospace\"><span style=\"font-weight: bold\"> Total params: </span><span style=\"color: #00af00; text-decoration-color: #00af00\">12,035</span> (47.01 KB)\n",
       "</pre>\n"
      ],
      "text/plain": [
       "\u001b[1m Total params: \u001b[0m\u001b[38;5;34m12,035\u001b[0m (47.01 KB)\n"
      ]
     },
     "metadata": {},
     "output_type": "display_data"
    },
    {
     "data": {
      "text/html": [
       "<pre style=\"white-space:pre;overflow-x:auto;line-height:normal;font-family:Menlo,'DejaVu Sans Mono',consolas,'Courier New',monospace\"><span style=\"font-weight: bold\"> Trainable params: </span><span style=\"color: #00af00; text-decoration-color: #00af00\">12,035</span> (47.01 KB)\n",
       "</pre>\n"
      ],
      "text/plain": [
       "\u001b[1m Trainable params: \u001b[0m\u001b[38;5;34m12,035\u001b[0m (47.01 KB)\n"
      ]
     },
     "metadata": {},
     "output_type": "display_data"
    },
    {
     "data": {
      "text/html": [
       "<pre style=\"white-space:pre;overflow-x:auto;line-height:normal;font-family:Menlo,'DejaVu Sans Mono',consolas,'Courier New',monospace\"><span style=\"font-weight: bold\"> Non-trainable params: </span><span style=\"color: #00af00; text-decoration-color: #00af00\">0</span> (0.00 B)\n",
       "</pre>\n"
      ],
      "text/plain": [
       "\u001b[1m Non-trainable params: \u001b[0m\u001b[38;5;34m0\u001b[0m (0.00 B)\n"
      ]
     },
     "metadata": {},
     "output_type": "display_data"
    }
   ],
   "source": [
    "model.compile(optimizer=Adam(learning_rate=0.001), loss='categorical_crossentropy', metrics=[f1_score])\n",
    "model.summary()"
   ]
  },
  {
   "cell_type": "code",
   "execution_count": 19,
   "id": "a6b1a55c-1a33-4be4-a80d-e9f27cef2c90",
   "metadata": {
    "scrolled": true
   },
   "outputs": [
    {
     "name": "stdout",
     "output_type": "stream",
     "text": [
      "Epoch 1/100\n",
      "10/10 - 1s - 82ms/step - f1_score: 0.2710 - loss: 13.5894 - val_f1_score: 0.0627 - val_loss: 3.6974\n",
      "Epoch 2/100\n",
      "10/10 - 0s - 5ms/step - f1_score: 0.3459 - loss: 10.0186 - val_f1_score: 0.4373 - val_loss: 1.8282\n",
      "Epoch 3/100\n",
      "10/10 - 0s - 5ms/step - f1_score: 0.3820 - loss: 9.0624 - val_f1_score: 0.4891 - val_loss: 1.4793\n",
      "Epoch 4/100\n",
      "10/10 - 0s - 4ms/step - f1_score: 0.4988 - loss: 6.7037 - val_f1_score: 0.4891 - val_loss: 1.2815\n",
      "Epoch 5/100\n",
      "10/10 - 0s - 5ms/step - f1_score: 0.5050 - loss: 6.5261 - val_f1_score: 0.4891 - val_loss: 1.1772\n",
      "Epoch 6/100\n",
      "10/10 - 0s - 5ms/step - f1_score: 0.5229 - loss: 6.0012 - val_f1_score: 0.4891 - val_loss: 1.1082\n",
      "Epoch 7/100\n",
      "10/10 - 0s - 4ms/step - f1_score: 0.4772 - loss: 5.2344 - val_f1_score: 0.4984 - val_loss: 1.0234\n",
      "Epoch 8/100\n",
      "10/10 - 0s - 5ms/step - f1_score: 0.4988 - loss: 4.3262 - val_f1_score: 0.5261 - val_loss: 0.9430\n",
      "Epoch 9/100\n",
      "10/10 - 0s - 5ms/step - f1_score: 0.5494 - loss: 4.2511 - val_f1_score: 0.5261 - val_loss: 0.8899\n",
      "Epoch 10/100\n",
      "10/10 - 0s - 4ms/step - f1_score: 0.5223 - loss: 4.1287 - val_f1_score: 0.5347 - val_loss: 0.8624\n",
      "Epoch 11/100\n",
      "10/10 - 0s - 4ms/step - f1_score: 0.5549 - loss: 4.4860 - val_f1_score: 0.4911 - val_loss: 0.7812\n",
      "Epoch 12/100\n",
      "10/10 - 0s - 4ms/step - f1_score: 0.5297 - loss: 3.8402 - val_f1_score: 0.5327 - val_loss: 0.7556\n",
      "Epoch 13/100\n",
      "10/10 - 0s - 5ms/step - f1_score: 0.6182 - loss: 3.8341 - val_f1_score: 0.7292 - val_loss: 0.7353\n",
      "Epoch 14/100\n",
      "10/10 - 0s - 6ms/step - f1_score: 0.5417 - loss: 3.8863 - val_f1_score: 0.5718 - val_loss: 0.7013\n",
      "Epoch 15/100\n",
      "10/10 - 0s - 5ms/step - f1_score: 0.5326 - loss: 3.8949 - val_f1_score: 0.5792 - val_loss: 0.6586\n",
      "Epoch 16/100\n",
      "10/10 - 0s - 5ms/step - f1_score: 0.6196 - loss: 2.3894 - val_f1_score: 0.5792 - val_loss: 0.6077\n",
      "Epoch 17/100\n",
      "10/10 - 0s - 5ms/step - f1_score: 0.6048 - loss: 3.2190 - val_f1_score: 0.5792 - val_loss: 0.5912\n",
      "Epoch 18/100\n",
      "10/10 - 0s - 5ms/step - f1_score: 0.6196 - loss: 2.1491 - val_f1_score: 0.5792 - val_loss: 0.5678\n",
      "Epoch 19/100\n",
      "10/10 - 0s - 5ms/step - f1_score: 0.6637 - loss: 2.4875 - val_f1_score: 0.5792 - val_loss: 0.5587\n",
      "Epoch 20/100\n",
      "10/10 - 0s - 4ms/step - f1_score: 0.6441 - loss: 2.3835 - val_f1_score: 0.5792 - val_loss: 0.5396\n",
      "Epoch 21/100\n",
      "10/10 - 0s - 5ms/step - f1_score: 0.6738 - loss: 2.0428 - val_f1_score: 0.5792 - val_loss: 0.5266\n",
      "Epoch 22/100\n",
      "10/10 - 0s - 4ms/step - f1_score: 0.5676 - loss: 2.5370 - val_f1_score: 0.5940 - val_loss: 0.5077\n",
      "Epoch 23/100\n",
      "10/10 - 0s - 5ms/step - f1_score: 0.6632 - loss: 2.1638 - val_f1_score: 0.7606 - val_loss: 0.4981\n",
      "Epoch 24/100\n",
      "10/10 - 0s - 5ms/step - f1_score: 0.7217 - loss: 2.0641 - val_f1_score: 0.7458 - val_loss: 0.5012\n",
      "Epoch 25/100\n",
      "10/10 - 0s - 5ms/step - f1_score: 0.6596 - loss: 1.6832 - val_f1_score: 0.5792 - val_loss: 0.4955\n",
      "Epoch 26/100\n",
      "10/10 - 0s - 5ms/step - f1_score: 0.6668 - loss: 1.4070 - val_f1_score: 0.5792 - val_loss: 0.4932\n",
      "Epoch 27/100\n",
      "10/10 - 0s - 5ms/step - f1_score: 0.6452 - loss: 1.6352 - val_f1_score: 0.5792 - val_loss: 0.4986\n",
      "Epoch 28/100\n",
      "10/10 - 0s - 5ms/step - f1_score: 0.6940 - loss: 1.5580 - val_f1_score: 0.5792 - val_loss: 0.4886\n",
      "Epoch 29/100\n",
      "10/10 - 0s - 5ms/step - f1_score: 0.7095 - loss: 1.2008 - val_f1_score: 0.5792 - val_loss: 0.4654\n",
      "Epoch 30/100\n",
      "10/10 - 0s - 5ms/step - f1_score: 0.7486 - loss: 1.6321 - val_f1_score: 0.5792 - val_loss: 0.4483\n",
      "Epoch 31/100\n",
      "10/10 - 0s - 5ms/step - f1_score: 0.7454 - loss: 1.2823 - val_f1_score: 0.5792 - val_loss: 0.4375\n",
      "Epoch 32/100\n",
      "10/10 - 0s - 5ms/step - f1_score: 0.7071 - loss: 1.2533 - val_f1_score: 0.5940 - val_loss: 0.4308\n",
      "Epoch 33/100\n",
      "10/10 - 0s - 5ms/step - f1_score: 0.7052 - loss: 1.4325 - val_f1_score: 0.5940 - val_loss: 0.4299\n",
      "Epoch 34/100\n",
      "10/10 - 0s - 5ms/step - f1_score: 0.6923 - loss: 1.1562 - val_f1_score: 0.5940 - val_loss: 0.4290\n",
      "Epoch 35/100\n",
      "10/10 - 0s - 5ms/step - f1_score: 0.8071 - loss: 0.9978 - val_f1_score: 0.5940 - val_loss: 0.4259\n",
      "Epoch 36/100\n",
      "10/10 - 0s - 5ms/step - f1_score: 0.6788 - loss: 1.3856 - val_f1_score: 0.7606 - val_loss: 0.4221\n",
      "Epoch 37/100\n",
      "10/10 - 0s - 5ms/step - f1_score: 0.6947 - loss: 1.1979 - val_f1_score: 0.7606 - val_loss: 0.4123\n",
      "Epoch 38/100\n",
      "10/10 - 0s - 5ms/step - f1_score: 0.8231 - loss: 0.6538 - val_f1_score: 0.7606 - val_loss: 0.4141\n",
      "Epoch 39/100\n",
      "10/10 - 0s - 5ms/step - f1_score: 0.6842 - loss: 0.8276 - val_f1_score: 0.7606 - val_loss: 0.4100\n",
      "Epoch 40/100\n",
      "10/10 - 0s - 5ms/step - f1_score: 0.7176 - loss: 1.1735 - val_f1_score: 0.7606 - val_loss: 0.4052\n",
      "Epoch 41/100\n",
      "10/10 - 0s - 5ms/step - f1_score: 0.7720 - loss: 0.7133 - val_f1_score: 0.7606 - val_loss: 0.3950\n",
      "Epoch 42/100\n",
      "10/10 - 0s - 4ms/step - f1_score: 0.7459 - loss: 0.8598 - val_f1_score: 0.7458 - val_loss: 0.3932\n",
      "Epoch 43/100\n",
      "10/10 - 0s - 5ms/step - f1_score: 0.7712 - loss: 0.7962 - val_f1_score: 0.7458 - val_loss: 0.3922\n",
      "Epoch 44/100\n",
      "10/10 - 0s - 5ms/step - f1_score: 0.7414 - loss: 0.9485 - val_f1_score: 0.7458 - val_loss: 0.3921\n",
      "Epoch 45/100\n",
      "10/10 - 0s - 4ms/step - f1_score: 0.7950 - loss: 0.7206 - val_f1_score: 0.7458 - val_loss: 0.3940\n",
      "Epoch 46/100\n",
      "10/10 - 0s - 5ms/step - f1_score: 0.7554 - loss: 1.0230 - val_f1_score: 0.7458 - val_loss: 0.3966\n",
      "Epoch 47/100\n",
      "10/10 - 0s - 5ms/step - f1_score: 0.7301 - loss: 0.7207 - val_f1_score: 0.7458 - val_loss: 0.3879\n",
      "Epoch 48/100\n",
      "10/10 - 0s - 5ms/step - f1_score: 0.8085 - loss: 0.5957 - val_f1_score: 0.7606 - val_loss: 0.3662\n",
      "Epoch 49/100\n",
      "10/10 - 0s - 5ms/step - f1_score: 0.8000 - loss: 0.6475 - val_f1_score: 0.7606 - val_loss: 0.3508\n",
      "Epoch 50/100\n",
      "10/10 - 0s - 5ms/step - f1_score: 0.8323 - loss: 0.3786 - val_f1_score: 0.7606 - val_loss: 0.3464\n",
      "Epoch 51/100\n",
      "10/10 - 0s - 5ms/step - f1_score: 0.8303 - loss: 0.6696 - val_f1_score: 0.7606 - val_loss: 0.3462\n",
      "Epoch 52/100\n",
      "10/10 - 0s - 5ms/step - f1_score: 0.7935 - loss: 0.7118 - val_f1_score: 0.7606 - val_loss: 0.3501\n",
      "Epoch 53/100\n",
      "10/10 - 0s - 5ms/step - f1_score: 0.8265 - loss: 0.6643 - val_f1_score: 0.7606 - val_loss: 0.3490\n",
      "Epoch 54/100\n",
      "10/10 - 0s - 5ms/step - f1_score: 0.8005 - loss: 0.6230 - val_f1_score: 0.7606 - val_loss: 0.3374\n",
      "Epoch 55/100\n",
      "10/10 - 0s - 5ms/step - f1_score: 0.7965 - loss: 0.6493 - val_f1_score: 0.7606 - val_loss: 0.3293\n",
      "Epoch 56/100\n",
      "10/10 - 0s - 5ms/step - f1_score: 0.7954 - loss: 0.5378 - val_f1_score: 0.7606 - val_loss: 0.3255\n",
      "Epoch 57/100\n",
      "10/10 - 0s - 5ms/step - f1_score: 0.8009 - loss: 0.6038 - val_f1_score: 0.7606 - val_loss: 0.3175\n",
      "Epoch 58/100\n",
      "10/10 - 0s - 5ms/step - f1_score: 0.7860 - loss: 0.6360 - val_f1_score: 0.7606 - val_loss: 0.3156\n",
      "Epoch 59/100\n",
      "10/10 - 0s - 5ms/step - f1_score: 0.7565 - loss: 0.6052 - val_f1_score: 0.7606 - val_loss: 0.3120\n",
      "Epoch 60/100\n",
      "10/10 - 0s - 5ms/step - f1_score: 0.8717 - loss: 0.4966 - val_f1_score: 0.7606 - val_loss: 0.3114\n",
      "Epoch 61/100\n",
      "10/10 - 0s - 5ms/step - f1_score: 0.8366 - loss: 0.3795 - val_f1_score: 0.7606 - val_loss: 0.3147\n",
      "Epoch 62/100\n",
      "10/10 - 0s - 5ms/step - f1_score: 0.8319 - loss: 0.5366 - val_f1_score: 0.7606 - val_loss: 0.3179\n",
      "Epoch 63/100\n",
      "10/10 - 0s - 5ms/step - f1_score: 0.8754 - loss: 0.3628 - val_f1_score: 0.7717 - val_loss: 0.3156\n",
      "Epoch 64/100\n",
      "10/10 - 0s - 5ms/step - f1_score: 0.8226 - loss: 0.4173 - val_f1_score: 0.7717 - val_loss: 0.3102\n",
      "Epoch 65/100\n",
      "10/10 - 0s - 4ms/step - f1_score: 0.8369 - loss: 0.4824 - val_f1_score: 0.7717 - val_loss: 0.3041\n",
      "Epoch 66/100\n",
      "10/10 - 0s - 5ms/step - f1_score: 0.8821 - loss: 0.3093 - val_f1_score: 0.7717 - val_loss: 0.2982\n",
      "Epoch 67/100\n",
      "10/10 - 0s - 4ms/step - f1_score: 0.8669 - loss: 0.4374 - val_f1_score: 0.7717 - val_loss: 0.2954\n",
      "Epoch 68/100\n",
      "10/10 - 0s - 4ms/step - f1_score: 0.7943 - loss: 0.4889 - val_f1_score: 0.7717 - val_loss: 0.2984\n",
      "Epoch 69/100\n",
      "10/10 - 0s - 5ms/step - f1_score: 0.8560 - loss: 0.3313 - val_f1_score: 0.7717 - val_loss: 0.2992\n",
      "Epoch 70/100\n",
      "10/10 - 0s - 4ms/step - f1_score: 0.8445 - loss: 0.5249 - val_f1_score: 0.7717 - val_loss: 0.2985\n",
      "Epoch 71/100\n",
      "10/10 - 0s - 5ms/step - f1_score: 0.8812 - loss: 0.3306 - val_f1_score: 0.7717 - val_loss: 0.2957\n",
      "Epoch 72/100\n",
      "10/10 - 0s - 5ms/step - f1_score: 0.8558 - loss: 0.4624 - val_f1_score: 0.7717 - val_loss: 0.2907\n",
      "Epoch 73/100\n",
      "10/10 - 0s - 5ms/step - f1_score: 0.8337 - loss: 0.5045 - val_f1_score: 0.7717 - val_loss: 0.2893\n",
      "Epoch 74/100\n",
      "10/10 - 0s - 5ms/step - f1_score: 0.8510 - loss: 0.6020 - val_f1_score: 0.7717 - val_loss: 0.2919\n",
      "Epoch 75/100\n",
      "10/10 - 0s - 4ms/step - f1_score: 0.8490 - loss: 0.3140 - val_f1_score: 0.7717 - val_loss: 0.2917\n",
      "Epoch 76/100\n",
      "10/10 - 0s - 5ms/step - f1_score: 0.8517 - loss: 0.3777 - val_f1_score: 0.7717 - val_loss: 0.2888\n",
      "Epoch 77/100\n",
      "10/10 - 0s - 5ms/step - f1_score: 0.8532 - loss: 0.4096 - val_f1_score: 0.7717 - val_loss: 0.2856\n",
      "Epoch 78/100\n",
      "10/10 - 0s - 5ms/step - f1_score: 0.8266 - loss: 0.4598 - val_f1_score: 0.7717 - val_loss: 0.2845\n",
      "Epoch 79/100\n",
      "10/10 - 0s - 4ms/step - f1_score: 0.7969 - loss: 0.5263 - val_f1_score: 0.7717 - val_loss: 0.2760\n",
      "Epoch 80/100\n",
      "10/10 - 0s - 5ms/step - f1_score: 0.8933 - loss: 0.2861 - val_f1_score: 0.7717 - val_loss: 0.2742\n",
      "Epoch 81/100\n",
      "10/10 - 0s - 4ms/step - f1_score: 0.8502 - loss: 0.3642 - val_f1_score: 0.7717 - val_loss: 0.2798\n",
      "Epoch 82/100\n",
      "10/10 - 0s - 5ms/step - f1_score: 0.7873 - loss: 0.5273 - val_f1_score: 0.7717 - val_loss: 0.2846\n",
      "Epoch 83/100\n",
      "10/10 - 0s - 5ms/step - f1_score: 0.8867 - loss: 0.2721 - val_f1_score: 0.7717 - val_loss: 0.2850\n",
      "Epoch 84/100\n",
      "10/10 - 0s - 4ms/step - f1_score: 0.8758 - loss: 0.2771 - val_f1_score: 0.7717 - val_loss: 0.2882\n",
      "Epoch 85/100\n",
      "10/10 - 0s - 4ms/step - f1_score: 0.8711 - loss: 0.3265 - val_f1_score: 0.7717 - val_loss: 0.2884\n",
      "Epoch 86/100\n",
      "10/10 - 0s - 4ms/step - f1_score: 0.8934 - loss: 0.2845 - val_f1_score: 0.7717 - val_loss: 0.2865\n",
      "Epoch 87/100\n",
      "10/10 - 0s - 5ms/step - f1_score: 0.8219 - loss: 0.4680 - val_f1_score: 0.7717 - val_loss: 0.2908\n",
      "Epoch 88/100\n",
      "10/10 - 0s - 4ms/step - f1_score: 0.8240 - loss: 0.4079 - val_f1_score: 0.7717 - val_loss: 0.2900\n",
      "Epoch 89/100\n",
      "10/10 - 0s - 4ms/step - f1_score: 0.8892 - loss: 0.1964 - val_f1_score: 0.7717 - val_loss: 0.2865\n",
      "Epoch 90/100\n",
      "10/10 - 0s - 4ms/step - f1_score: 0.8868 - loss: 0.3461 - val_f1_score: 0.7717 - val_loss: 0.2901\n",
      "Epoch 91/100\n",
      "10/10 - 0s - 5ms/step - f1_score: 0.9178 - loss: 0.2282 - val_f1_score: 0.7717 - val_loss: 0.2954\n",
      "Epoch 92/100\n",
      "10/10 - 0s - 5ms/step - f1_score: 0.8730 - loss: 0.3202 - val_f1_score: 0.7717 - val_loss: 0.2960\n",
      "Epoch 93/100\n",
      "10/10 - 0s - 5ms/step - f1_score: 0.8819 - loss: 0.2593 - val_f1_score: 0.7717 - val_loss: 0.2954\n",
      "Epoch 94/100\n",
      "10/10 - 0s - 5ms/step - f1_score: 0.9300 - loss: 0.2066 - val_f1_score: 0.7717 - val_loss: 0.2942\n",
      "Epoch 95/100\n",
      "10/10 - 0s - 5ms/step - f1_score: 0.8488 - loss: 0.3547 - val_f1_score: 0.7717 - val_loss: 0.2897\n",
      "Epoch 96/100\n",
      "10/10 - 0s - 5ms/step - f1_score: 0.8929 - loss: 0.2278 - val_f1_score: 0.7717 - val_loss: 0.2788\n",
      "Epoch 97/100\n",
      "10/10 - 0s - 5ms/step - f1_score: 0.9270 - loss: 0.3090 - val_f1_score: 0.7717 - val_loss: 0.2726\n",
      "Epoch 98/100\n",
      "10/10 - 0s - 5ms/step - f1_score: 0.9390 - loss: 0.1943 - val_f1_score: 0.7717 - val_loss: 0.2699\n",
      "Epoch 99/100\n",
      "10/10 - 0s - 5ms/step - f1_score: 0.9183 - loss: 0.1898 - val_f1_score: 0.7717 - val_loss: 0.2673\n",
      "Epoch 100/100\n",
      "10/10 - 0s - 5ms/step - f1_score: 0.8851 - loss: 0.2510 - val_f1_score: 0.7717 - val_loss: 0.2697\n"
     ]
    }
   ],
   "source": [
    "history = model.fit(X_train_reduced, y_train_encoded, epochs=100, batch_size=16,\n",
    "                    validation_data=(X_val_reduced, y_val_encoded), verbose=2, \n",
    "                    )"
   ]
  },
  {
   "cell_type": "code",
   "execution_count": 23,
   "id": "e20b6b5e-12a0-47fe-be8c-7ab8a2d51e80",
   "metadata": {},
   "outputs": [
    {
     "name": "stdout",
     "output_type": "stream",
     "text": [
      "Logistic Regression F1: [0.8        0.85714286 0.95238095]\n",
      "SVC F1: [0.88888889 0.88888889 0.9       ]\n",
      "Random Forest F1: [0.66666667 0.66666667 0.95652174]\n",
      "KNN F1: [0.85714286 0.8        0.95238095]\n"
     ]
    }
   ],
   "source": [
    "# evalation\n",
    "log_reg_val_pred = log_reg.predict(X_val_reduced)\n",
    "svc_val_pred = svc.predict(X_val_reduced)\n",
    "rf_val_pred = rf.predict(X_val_reduced)\n",
    "knn_val_pred = knn.predict(X_val_reduced)\n",
    "\n",
    "log_reg_val_f1 = f1_score(y_val, log_reg_val_pred, average=None)\n",
    "svc_val_f1 = f1_score(y_val, svc_val_pred, average=None)\n",
    "rf_val_f1 = f1_score(y_val, rf_val_pred, average=None)\n",
    "knn_val_f1 = f1_score(y_val, knn_val_pred, average=None)\n",
    "\n",
    "print(f'Logistic Regression F1: {log_reg_val_f1}')\n",
    "print(f'SVC F1: {svc_val_f1}')\n",
    "print(f'Random Forest F1: {rf_val_f1}')\n",
    "print(f'KNN F1: {knn_val_f1}')"
   ]
  },
  {
   "cell_type": "code",
   "execution_count": 24,
   "id": "35d1f187-3875-4155-b30d-d06d01361bbc",
   "metadata": {},
   "outputs": [
    {
     "name": "stdout",
     "output_type": "stream",
     "text": [
      "Logistic Regression F1: 0.8947368421052632\n",
      "SVC F1: 0.8947368421052632\n",
      "Random Forest F1: 0.8421052631578947\n",
      "KNN F1: 0.8947368421052632\n"
     ]
    }
   ],
   "source": [
    "log_reg_val_f1_micro = f1_score(y_val, log_reg_val_pred, average='micro')\n",
    "svc_val_f1_micro = f1_score(y_val, svc_val_pred, average='micro')\n",
    "rf_val_f1_micro = f1_score(y_val, rf_val_pred, average='micro')\n",
    "knn_val_f1_micro = f1_score(y_val, knn_val_pred, average='micro')\n",
    "\n",
    "print(f'Logistic Regression F1: {log_reg_val_f1_micro}')\n",
    "print(f'SVC F1: {svc_val_f1_micro}')\n",
    "print(f'Random Forest F1: {rf_val_f1_micro}')\n",
    "print(f'KNN F1: {knn_val_f1_micro}')"
   ]
  },
  {
   "cell_type": "code",
   "execution_count": 25,
   "id": "a044a25f-a4d9-412e-ab3e-840e0fff3277",
   "metadata": {},
   "outputs": [
    {
     "name": "stdout",
     "output_type": "stream",
     "text": [
      "Logistic Regression F1: 0.8698412698412697\n",
      "SVC F1: 0.8925925925925927\n",
      "Random Forest F1: 0.7632850241545892\n",
      "KNN F1: 0.8698412698412697\n"
     ]
    }
   ],
   "source": [
    "log_reg_val_f1_macro = f1_score(y_val, log_reg_val_pred, average='macro')\n",
    "svc_val_f1_macro = f1_score(y_val, svc_val_pred, average='macro')\n",
    "rf_val_f1_macro = f1_score(y_val, rf_val_pred, average='macro')\n",
    "knn_val_f1_macro = f1_score(y_val, knn_val_pred, average='macro')\n",
    "\n",
    "print(f'Logistic Regression F1: {log_reg_val_f1_macro}')\n",
    "print(f'SVC F1: {svc_val_f1_macro}')\n",
    "print(f'Random Forest F1: {rf_val_f1_macro}')\n",
    "print(f'KNN F1: {knn_val_f1_macro}')"
   ]
  },
  {
   "cell_type": "code",
   "execution_count": 26,
   "id": "c262631b-5a45-4844-a48b-2bf2b1c7046a",
   "metadata": {},
   "outputs": [
    {
     "name": "stdout",
     "output_type": "stream",
     "text": [
      "Logistic Regression F1: 0.900250626566416\n",
      "SVC F1: 0.8953216374269006\n",
      "Random Forest F1: 0.8344774980930587\n",
      "KNN F1: 0.900250626566416\n"
     ]
    }
   ],
   "source": [
    "log_reg_val_f1_weighted = f1_score(y_val, log_reg_val_pred, average='weighted')\n",
    "svc_val_f1_weighted = f1_score(y_val, svc_val_pred, average='weighted')\n",
    "rf_val_f1_weighted = f1_score(y_val, rf_val_pred, average='weighted')\n",
    "knn_val_f1_weighted = f1_score(y_val, knn_val_pred, average='weighted')\n",
    "\n",
    "print(f'Logistic Regression F1: {log_reg_val_f1_weighted}')\n",
    "print(f'SVC F1: {svc_val_f1_weighted}')\n",
    "print(f'Random Forest F1: {rf_val_f1_weighted}')\n",
    "print(f'KNN F1: {knn_val_f1_weighted}')"
   ]
  },
  {
   "cell_type": "code",
   "execution_count": 28,
   "id": "4b09cf45-cca4-4402-85ee-8971202fe929",
   "metadata": {},
   "outputs": [
    {
     "name": "stdout",
     "output_type": "stream",
     "text": [
      "Classification Report of Logistic Regression\n",
      "                       precision    recall  f1-score   support\n",
      "\n",
      "    Advanced_fibrosis       0.67      1.00      0.80         4\n",
      "Non_advanced_Fibrosis       1.00      0.75      0.86         4\n",
      "               Normal       1.00      0.91      0.95        11\n",
      "\n",
      "             accuracy                           0.89        19\n",
      "            macro avg       0.89      0.89      0.87        19\n",
      "         weighted avg       0.93      0.89      0.90        19\n",
      "\n"
     ]
    }
   ],
   "source": [
    "print('Classification Report of Logistic Regression')\n",
    "print(classification_report(y_val, log_reg_val_pred))"
   ]
  },
  {
   "cell_type": "code",
   "execution_count": 29,
   "id": "f5febedc-9bfb-4965-b2aa-2efc75e2c488",
   "metadata": {
    "scrolled": true
   },
   "outputs": [
    {
     "name": "stdout",
     "output_type": "stream",
     "text": [
      "Classification Report of KNN\n",
      "                       precision    recall  f1-score   support\n",
      "\n",
      "    Advanced_fibrosis       1.00      0.75      0.86         4\n",
      "Non_advanced_Fibrosis       0.67      1.00      0.80         4\n",
      "               Normal       1.00      0.91      0.95        11\n",
      "\n",
      "             accuracy                           0.89        19\n",
      "            macro avg       0.89      0.89      0.87        19\n",
      "         weighted avg       0.93      0.89      0.90        19\n",
      "\n"
     ]
    }
   ],
   "source": [
    "print('Classification Report of KNN')\n",
    "print(classification_report(y_val, knn_val_pred))"
   ]
  },
  {
   "cell_type": "code",
   "execution_count": 39,
   "id": "7a84ad80-4996-4db0-88db-2d8428573095",
   "metadata": {
    "scrolled": true
   },
   "outputs": [
    {
     "name": "stdout",
     "output_type": "stream",
     "text": [
      "Fitting 3 folds for each of 6 candidates, totalling 18 fits\n"
     ]
    },
    {
     "data": {
      "text/html": [
       "<style>#sk-container-id-5 {color: black;background-color: white;}#sk-container-id-5 pre{padding: 0;}#sk-container-id-5 div.sk-toggleable {background-color: white;}#sk-container-id-5 label.sk-toggleable__label {cursor: pointer;display: block;width: 100%;margin-bottom: 0;padding: 0.3em;box-sizing: border-box;text-align: center;}#sk-container-id-5 label.sk-toggleable__label-arrow:before {content: \"▸\";float: left;margin-right: 0.25em;color: #696969;}#sk-container-id-5 label.sk-toggleable__label-arrow:hover:before {color: black;}#sk-container-id-5 div.sk-estimator:hover label.sk-toggleable__label-arrow:before {color: black;}#sk-container-id-5 div.sk-toggleable__content {max-height: 0;max-width: 0;overflow: hidden;text-align: left;background-color: #f0f8ff;}#sk-container-id-5 div.sk-toggleable__content pre {margin: 0.2em;color: black;border-radius: 0.25em;background-color: #f0f8ff;}#sk-container-id-5 input.sk-toggleable__control:checked~div.sk-toggleable__content {max-height: 200px;max-width: 100%;overflow: auto;}#sk-container-id-5 input.sk-toggleable__control:checked~label.sk-toggleable__label-arrow:before {content: \"▾\";}#sk-container-id-5 div.sk-estimator input.sk-toggleable__control:checked~label.sk-toggleable__label {background-color: #d4ebff;}#sk-container-id-5 div.sk-label input.sk-toggleable__control:checked~label.sk-toggleable__label {background-color: #d4ebff;}#sk-container-id-5 input.sk-hidden--visually {border: 0;clip: rect(1px 1px 1px 1px);clip: rect(1px, 1px, 1px, 1px);height: 1px;margin: -1px;overflow: hidden;padding: 0;position: absolute;width: 1px;}#sk-container-id-5 div.sk-estimator {font-family: monospace;background-color: #f0f8ff;border: 1px dotted black;border-radius: 0.25em;box-sizing: border-box;margin-bottom: 0.5em;}#sk-container-id-5 div.sk-estimator:hover {background-color: #d4ebff;}#sk-container-id-5 div.sk-parallel-item::after {content: \"\";width: 100%;border-bottom: 1px solid gray;flex-grow: 1;}#sk-container-id-5 div.sk-label:hover label.sk-toggleable__label {background-color: #d4ebff;}#sk-container-id-5 div.sk-serial::before {content: \"\";position: absolute;border-left: 1px solid gray;box-sizing: border-box;top: 0;bottom: 0;left: 50%;z-index: 0;}#sk-container-id-5 div.sk-serial {display: flex;flex-direction: column;align-items: center;background-color: white;padding-right: 0.2em;padding-left: 0.2em;position: relative;}#sk-container-id-5 div.sk-item {position: relative;z-index: 1;}#sk-container-id-5 div.sk-parallel {display: flex;align-items: stretch;justify-content: center;background-color: white;position: relative;}#sk-container-id-5 div.sk-item::before, #sk-container-id-5 div.sk-parallel-item::before {content: \"\";position: absolute;border-left: 1px solid gray;box-sizing: border-box;top: 0;bottom: 0;left: 50%;z-index: -1;}#sk-container-id-5 div.sk-parallel-item {display: flex;flex-direction: column;z-index: 1;position: relative;background-color: white;}#sk-container-id-5 div.sk-parallel-item:first-child::after {align-self: flex-end;width: 50%;}#sk-container-id-5 div.sk-parallel-item:last-child::after {align-self: flex-start;width: 50%;}#sk-container-id-5 div.sk-parallel-item:only-child::after {width: 0;}#sk-container-id-5 div.sk-dashed-wrapped {border: 1px dashed gray;margin: 0 0.4em 0.5em 0.4em;box-sizing: border-box;padding-bottom: 0.4em;background-color: white;}#sk-container-id-5 div.sk-label label {font-family: monospace;font-weight: bold;display: inline-block;line-height: 1.2em;}#sk-container-id-5 div.sk-label-container {text-align: center;}#sk-container-id-5 div.sk-container {/* jupyter's `normalize.less` sets `[hidden] { display: none; }` but bootstrap.min.css set `[hidden] { display: none !important; }` so we also need the `!important` here to be able to override the default hidden behavior on the sphinx rendered scikit-learn.org. See: https://github.com/scikit-learn/scikit-learn/issues/21755 */display: inline-block !important;position: relative;}#sk-container-id-5 div.sk-text-repr-fallback {display: none;}</style><div id=\"sk-container-id-5\" class=\"sk-top-container\"><div class=\"sk-text-repr-fallback\"><pre>GridSearchCV(cv=3, estimator=LogisticRegression(max_iter=1000),\n",
       "             param_grid={&#x27;C&#x27;: [0.1, 1, 10], &#x27;solver&#x27;: [&#x27;liblinear&#x27;, &#x27;lbfgs&#x27;]},\n",
       "             scoring=make_scorer(f1_score, average=weighted), verbose=1)</pre><b>In a Jupyter environment, please rerun this cell to show the HTML representation or trust the notebook. <br />On GitHub, the HTML representation is unable to render, please try loading this page with nbviewer.org.</b></div><div class=\"sk-container\" hidden><div class=\"sk-item sk-dashed-wrapped\"><div class=\"sk-label-container\"><div class=\"sk-label sk-toggleable\"><input class=\"sk-toggleable__control sk-hidden--visually\" id=\"sk-estimator-id-13\" type=\"checkbox\" ><label for=\"sk-estimator-id-13\" class=\"sk-toggleable__label sk-toggleable__label-arrow\">GridSearchCV</label><div class=\"sk-toggleable__content\"><pre>GridSearchCV(cv=3, estimator=LogisticRegression(max_iter=1000),\n",
       "             param_grid={&#x27;C&#x27;: [0.1, 1, 10], &#x27;solver&#x27;: [&#x27;liblinear&#x27;, &#x27;lbfgs&#x27;]},\n",
       "             scoring=make_scorer(f1_score, average=weighted), verbose=1)</pre></div></div></div><div class=\"sk-parallel\"><div class=\"sk-parallel-item\"><div class=\"sk-item\"><div class=\"sk-label-container\"><div class=\"sk-label sk-toggleable\"><input class=\"sk-toggleable__control sk-hidden--visually\" id=\"sk-estimator-id-14\" type=\"checkbox\" ><label for=\"sk-estimator-id-14\" class=\"sk-toggleable__label sk-toggleable__label-arrow\">estimator: LogisticRegression</label><div class=\"sk-toggleable__content\"><pre>LogisticRegression(max_iter=1000)</pre></div></div></div><div class=\"sk-serial\"><div class=\"sk-item\"><div class=\"sk-estimator sk-toggleable\"><input class=\"sk-toggleable__control sk-hidden--visually\" id=\"sk-estimator-id-15\" type=\"checkbox\" ><label for=\"sk-estimator-id-15\" class=\"sk-toggleable__label sk-toggleable__label-arrow\">LogisticRegression</label><div class=\"sk-toggleable__content\"><pre>LogisticRegression(max_iter=1000)</pre></div></div></div></div></div></div></div></div></div></div>"
      ],
      "text/plain": [
       "GridSearchCV(cv=3, estimator=LogisticRegression(max_iter=1000),\n",
       "             param_grid={'C': [0.1, 1, 10], 'solver': ['liblinear', 'lbfgs']},\n",
       "             scoring=make_scorer(f1_score, average=weighted), verbose=1)"
      ]
     },
     "execution_count": 39,
     "metadata": {},
     "output_type": "execute_result"
    }
   ],
   "source": [
    "# grid search\n",
    "param_grid = {'C': [0.1, 1, 10], 'solver': ['liblinear', 'lbfgs']}\n",
    "f1_scorer = make_scorer(f1_score, average='weighted')\n",
    "grid_search = GridSearchCV(LogisticRegression(max_iter=1000), param_grid, scoring=f1_scorer, cv=3, verbose=1)\n",
    "grid_search.fit(X_train_reduced, y_train)"
   ]
  },
  {
   "cell_type": "code",
   "execution_count": 40,
   "id": "c3632fb0-d8e9-4482-8b00-31637dd622f6",
   "metadata": {},
   "outputs": [
    {
     "name": "stdout",
     "output_type": "stream",
     "text": [
      "Best F1: 0.8294397757507479\n",
      "Best Params: {'C': 0.1, 'solver': 'lbfgs'}\n"
     ]
    }
   ],
   "source": [
    "print(f'Best F1: {grid_search.best_score_}')\n",
    "print(f'Best Params: {grid_search.best_params_}')\n",
    "best_model = grid_search.best_estimator_"
   ]
  },
  {
   "cell_type": "code",
   "execution_count": 41,
   "id": "a7fb9540-a47a-4ce6-9f3a-b7cf762b2809",
   "metadata": {},
   "outputs": [
    {
     "name": "stdout",
     "output_type": "stream",
     "text": [
      "                       precision    recall  f1-score   support\n",
      "\n",
      "    Advanced_fibrosis       0.60      1.00      0.75         6\n",
      "Non_advanced_Fibrosis       0.86      0.75      0.80         8\n",
      "               Normal       1.00      0.50      0.67         6\n",
      "\n",
      "             accuracy                           0.75        20\n",
      "            macro avg       0.82      0.75      0.74        20\n",
      "         weighted avg       0.82      0.75      0.74        20\n",
      "\n"
     ]
    }
   ],
   "source": [
    "# final test set validation\n",
    "X_test_scaled = scaler.transform(X_test)\n",
    "X_test_reduced = pca.transform(X_test_scaled)\n",
    "y_test_pred = best_model.predict(X_test_reduced)\n",
    "print(classification_report(y_test, y_test_pred))"
   ]
  },
  {
   "cell_type": "code",
   "execution_count": 1,
   "id": "e9d407d0-2ffd-4b47-bc3e-ded2d0616e40",
   "metadata": {},
   "outputs": [
    {
     "ename": "NameError",
     "evalue": "name 'best_model' is not defined",
     "output_type": "error",
     "traceback": [
      "\u001b[0;31m---------------------------------------------------------------------------\u001b[0m",
      "\u001b[0;31mNameError\u001b[0m                                 Traceback (most recent call last)",
      "Cell \u001b[0;32mIn[1], line 1\u001b[0m\n\u001b[0;32m----> 1\u001b[0m best_model\n",
      "\u001b[0;31mNameError\u001b[0m: name 'best_model' is not defined"
     ]
    }
   ],
   "source": [
    "best_model"
   ]
  }
 ],
 "metadata": {
  "kernelspec": {
   "display_name": "Python 3 (ipykernel)",
   "language": "python",
   "name": "python3"
  },
  "language_info": {
   "codemirror_mode": {
    "name": "ipython",
    "version": 3
   },
   "file_extension": ".py",
   "mimetype": "text/x-python",
   "name": "python",
   "nbconvert_exporter": "python",
   "pygments_lexer": "ipython3",
   "version": "3.11.7"
  }
 },
 "nbformat": 4,
 "nbformat_minor": 5
}
