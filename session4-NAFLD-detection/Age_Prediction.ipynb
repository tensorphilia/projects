{
 "cells": [
  {
   "cell_type": "code",
   "execution_count": 1,
   "id": "e6102763-e2e5-4e1b-8dfc-269398c8bc79",
   "metadata": {},
   "outputs": [],
   "source": [
    "import pandas as pd\n",
    "import numpy as np"
   ]
  },
  {
   "cell_type": "code",
   "execution_count": 10,
   "id": "a2040053-2a7e-4b0d-ae5a-5ec8831257e5",
   "metadata": {},
   "outputs": [
    {
     "data": {
      "text/html": [
       "<div>\n",
       "<style scoped>\n",
       "    .dataframe tbody tr th:only-of-type {\n",
       "        vertical-align: middle;\n",
       "    }\n",
       "\n",
       "    .dataframe tbody tr th {\n",
       "        vertical-align: top;\n",
       "    }\n",
       "\n",
       "    .dataframe thead th {\n",
       "        text-align: right;\n",
       "    }\n",
       "</style>\n",
       "<table border=\"1\" class=\"dataframe\">\n",
       "  <thead>\n",
       "    <tr style=\"text-align: right;\">\n",
       "      <th></th>\n",
       "      <th>Unnamed: 0</th>\n",
       "      <th>ENSG00000000003</th>\n",
       "      <th>ENSG00000000005</th>\n",
       "      <th>ENSG00000000419</th>\n",
       "      <th>ENSG00000000457</th>\n",
       "      <th>ENSG00000000460</th>\n",
       "      <th>ENSG00000000938</th>\n",
       "      <th>ENSG00000000971</th>\n",
       "      <th>ENSG00000001036</th>\n",
       "      <th>ENSG00000001084</th>\n",
       "      <th>...</th>\n",
       "      <th>ENSG00000273079</th>\n",
       "      <th>ENSG00000273173</th>\n",
       "      <th>ENSG00000273259</th>\n",
       "      <th>ENSG00000273274</th>\n",
       "      <th>ENSG00000273294</th>\n",
       "      <th>SEX</th>\n",
       "      <th>BMI_surg</th>\n",
       "      <th>Age</th>\n",
       "      <th>Diabet</th>\n",
       "      <th>Simplified_class</th>\n",
       "    </tr>\n",
       "  </thead>\n",
       "  <tbody>\n",
       "    <tr>\n",
       "      <th>0</th>\n",
       "      <td>DLDR_0001</td>\n",
       "      <td>5.965571</td>\n",
       "      <td>1.612375</td>\n",
       "      <td>4.133821</td>\n",
       "      <td>4.111056</td>\n",
       "      <td>4.150662</td>\n",
       "      <td>2.975845</td>\n",
       "      <td>11.005488</td>\n",
       "      <td>4.405768</td>\n",
       "      <td>6.825329</td>\n",
       "      <td>...</td>\n",
       "      <td>5.637483</td>\n",
       "      <td>-0.005377</td>\n",
       "      <td>1.675800</td>\n",
       "      <td>2.683536</td>\n",
       "      <td>-0.339797</td>\n",
       "      <td>Female</td>\n",
       "      <td>35.214555</td>\n",
       "      <td>55</td>\n",
       "      <td>Non Diabetic</td>\n",
       "      <td>Normal</td>\n",
       "    </tr>\n",
       "    <tr>\n",
       "      <th>1</th>\n",
       "      <td>DLDR_0002</td>\n",
       "      <td>5.741587</td>\n",
       "      <td>2.147793</td>\n",
       "      <td>4.120969</td>\n",
       "      <td>3.922234</td>\n",
       "      <td>3.732756</td>\n",
       "      <td>3.199989</td>\n",
       "      <td>10.860700</td>\n",
       "      <td>3.895350</td>\n",
       "      <td>6.453687</td>\n",
       "      <td>...</td>\n",
       "      <td>5.975612</td>\n",
       "      <td>0.532134</td>\n",
       "      <td>1.555218</td>\n",
       "      <td>2.926666</td>\n",
       "      <td>0.435919</td>\n",
       "      <td>Female</td>\n",
       "      <td>39.421748</td>\n",
       "      <td>47</td>\n",
       "      <td>Diabetic</td>\n",
       "      <td>Normal</td>\n",
       "    </tr>\n",
       "    <tr>\n",
       "      <th>2</th>\n",
       "      <td>DLDR_0003</td>\n",
       "      <td>5.996891</td>\n",
       "      <td>0.418542</td>\n",
       "      <td>4.086129</td>\n",
       "      <td>3.964871</td>\n",
       "      <td>3.634637</td>\n",
       "      <td>2.949733</td>\n",
       "      <td>10.934025</td>\n",
       "      <td>4.282577</td>\n",
       "      <td>6.437658</td>\n",
       "      <td>...</td>\n",
       "      <td>5.531648</td>\n",
       "      <td>-0.184123</td>\n",
       "      <td>2.391906</td>\n",
       "      <td>2.260662</td>\n",
       "      <td>-0.691083</td>\n",
       "      <td>Male</td>\n",
       "      <td>48.758108</td>\n",
       "      <td>46</td>\n",
       "      <td>Non Diabetic</td>\n",
       "      <td>Normal</td>\n",
       "    </tr>\n",
       "    <tr>\n",
       "      <th>3</th>\n",
       "      <td>DLDR_0004</td>\n",
       "      <td>5.551919</td>\n",
       "      <td>0.702492</td>\n",
       "      <td>4.116240</td>\n",
       "      <td>3.978350</td>\n",
       "      <td>3.853979</td>\n",
       "      <td>2.991061</td>\n",
       "      <td>10.760445</td>\n",
       "      <td>4.297722</td>\n",
       "      <td>6.710840</td>\n",
       "      <td>...</td>\n",
       "      <td>5.571799</td>\n",
       "      <td>-0.034474</td>\n",
       "      <td>1.639298</td>\n",
       "      <td>2.341393</td>\n",
       "      <td>0.096771</td>\n",
       "      <td>Female</td>\n",
       "      <td>41.822607</td>\n",
       "      <td>36</td>\n",
       "      <td>Non Diabetic</td>\n",
       "      <td>Normal</td>\n",
       "    </tr>\n",
       "    <tr>\n",
       "      <th>4</th>\n",
       "      <td>DLDR_0005</td>\n",
       "      <td>6.430237</td>\n",
       "      <td>1.215978</td>\n",
       "      <td>4.393797</td>\n",
       "      <td>4.018235</td>\n",
       "      <td>3.614220</td>\n",
       "      <td>2.836130</td>\n",
       "      <td>11.491427</td>\n",
       "      <td>4.405558</td>\n",
       "      <td>7.437655</td>\n",
       "      <td>...</td>\n",
       "      <td>5.636848</td>\n",
       "      <td>-1.216981</td>\n",
       "      <td>1.974160</td>\n",
       "      <td>1.351861</td>\n",
       "      <td>-0.079478</td>\n",
       "      <td>Female</td>\n",
       "      <td>53.582192</td>\n",
       "      <td>54</td>\n",
       "      <td>Non Diabetic</td>\n",
       "      <td>Normal</td>\n",
       "    </tr>\n",
       "  </tbody>\n",
       "</table>\n",
       "<p>5 rows × 17402 columns</p>\n",
       "</div>"
      ],
      "text/plain": [
       "  Unnamed: 0  ENSG00000000003  ENSG00000000005  ENSG00000000419  \\\n",
       "0  DLDR_0001         5.965571         1.612375         4.133821   \n",
       "1  DLDR_0002         5.741587         2.147793         4.120969   \n",
       "2  DLDR_0003         5.996891         0.418542         4.086129   \n",
       "3  DLDR_0004         5.551919         0.702492         4.116240   \n",
       "4  DLDR_0005         6.430237         1.215978         4.393797   \n",
       "\n",
       "   ENSG00000000457  ENSG00000000460  ENSG00000000938  ENSG00000000971  \\\n",
       "0         4.111056         4.150662         2.975845        11.005488   \n",
       "1         3.922234         3.732756         3.199989        10.860700   \n",
       "2         3.964871         3.634637         2.949733        10.934025   \n",
       "3         3.978350         3.853979         2.991061        10.760445   \n",
       "4         4.018235         3.614220         2.836130        11.491427   \n",
       "\n",
       "   ENSG00000001036  ENSG00000001084  ...  ENSG00000273079  ENSG00000273173  \\\n",
       "0         4.405768         6.825329  ...         5.637483        -0.005377   \n",
       "1         3.895350         6.453687  ...         5.975612         0.532134   \n",
       "2         4.282577         6.437658  ...         5.531648        -0.184123   \n",
       "3         4.297722         6.710840  ...         5.571799        -0.034474   \n",
       "4         4.405558         7.437655  ...         5.636848        -1.216981   \n",
       "\n",
       "   ENSG00000273259  ENSG00000273274  ENSG00000273294     SEX   BMI_surg  Age  \\\n",
       "0         1.675800         2.683536        -0.339797  Female  35.214555   55   \n",
       "1         1.555218         2.926666         0.435919  Female  39.421748   47   \n",
       "2         2.391906         2.260662        -0.691083    Male  48.758108   46   \n",
       "3         1.639298         2.341393         0.096771  Female  41.822607   36   \n",
       "4         1.974160         1.351861        -0.079478  Female  53.582192   54   \n",
       "\n",
       "         Diabet  Simplified_class  \n",
       "0  Non Diabetic            Normal  \n",
       "1      Diabetic            Normal  \n",
       "2  Non Diabetic            Normal  \n",
       "3  Non Diabetic            Normal  \n",
       "4  Non Diabetic            Normal  \n",
       "\n",
       "[5 rows x 17402 columns]"
      ]
     },
     "execution_count": 10,
     "metadata": {},
     "output_type": "execute_result"
    }
   ],
   "source": [
    "data = pd.read_csv('../data/whole_data.csv')\n",
    "data.head()"
   ]
  },
  {
   "cell_type": "code",
   "execution_count": 11,
   "id": "61cbd9f3-607f-4810-be64-120e84755bc8",
   "metadata": {},
   "outputs": [],
   "source": [
    "data.drop(data.columns[0], axis=1, inplace=True)\n",
    "encoded_data = pd.get_dummies(data[['SEX', 'Diabet']]).astype(int)\n",
    "data = pd.concat([data, encoded_data], axis=1)\n",
    "X = data.drop(['SEX', 'Diabet', 'Simplified_class', 'Age'], axis=1)\n",
    "y = data.Age"
   ]
  },
  {
   "cell_type": "code",
   "execution_count": 12,
   "id": "531e75f0-4a7b-4550-b6da-a1267af4ea96",
   "metadata": {},
   "outputs": [],
   "source": [
    "from sklearn.model_selection import train_test_split\n",
    "X_train, X_test, y_train, y_test = train_test_split(X, y, random_state=5, test_size=0.2)"
   ]
  },
  {
   "cell_type": "code",
   "execution_count": 13,
   "id": "179b9111-8b6c-4abc-b2a2-df930097561c",
   "metadata": {},
   "outputs": [
    {
     "data": {
      "text/html": [
       "<style>#sk-container-id-3 {color: black;background-color: white;}#sk-container-id-3 pre{padding: 0;}#sk-container-id-3 div.sk-toggleable {background-color: white;}#sk-container-id-3 label.sk-toggleable__label {cursor: pointer;display: block;width: 100%;margin-bottom: 0;padding: 0.3em;box-sizing: border-box;text-align: center;}#sk-container-id-3 label.sk-toggleable__label-arrow:before {content: \"▸\";float: left;margin-right: 0.25em;color: #696969;}#sk-container-id-3 label.sk-toggleable__label-arrow:hover:before {color: black;}#sk-container-id-3 div.sk-estimator:hover label.sk-toggleable__label-arrow:before {color: black;}#sk-container-id-3 div.sk-toggleable__content {max-height: 0;max-width: 0;overflow: hidden;text-align: left;background-color: #f0f8ff;}#sk-container-id-3 div.sk-toggleable__content pre {margin: 0.2em;color: black;border-radius: 0.25em;background-color: #f0f8ff;}#sk-container-id-3 input.sk-toggleable__control:checked~div.sk-toggleable__content {max-height: 200px;max-width: 100%;overflow: auto;}#sk-container-id-3 input.sk-toggleable__control:checked~label.sk-toggleable__label-arrow:before {content: \"▾\";}#sk-container-id-3 div.sk-estimator input.sk-toggleable__control:checked~label.sk-toggleable__label {background-color: #d4ebff;}#sk-container-id-3 div.sk-label input.sk-toggleable__control:checked~label.sk-toggleable__label {background-color: #d4ebff;}#sk-container-id-3 input.sk-hidden--visually {border: 0;clip: rect(1px 1px 1px 1px);clip: rect(1px, 1px, 1px, 1px);height: 1px;margin: -1px;overflow: hidden;padding: 0;position: absolute;width: 1px;}#sk-container-id-3 div.sk-estimator {font-family: monospace;background-color: #f0f8ff;border: 1px dotted black;border-radius: 0.25em;box-sizing: border-box;margin-bottom: 0.5em;}#sk-container-id-3 div.sk-estimator:hover {background-color: #d4ebff;}#sk-container-id-3 div.sk-parallel-item::after {content: \"\";width: 100%;border-bottom: 1px solid gray;flex-grow: 1;}#sk-container-id-3 div.sk-label:hover label.sk-toggleable__label {background-color: #d4ebff;}#sk-container-id-3 div.sk-serial::before {content: \"\";position: absolute;border-left: 1px solid gray;box-sizing: border-box;top: 0;bottom: 0;left: 50%;z-index: 0;}#sk-container-id-3 div.sk-serial {display: flex;flex-direction: column;align-items: center;background-color: white;padding-right: 0.2em;padding-left: 0.2em;position: relative;}#sk-container-id-3 div.sk-item {position: relative;z-index: 1;}#sk-container-id-3 div.sk-parallel {display: flex;align-items: stretch;justify-content: center;background-color: white;position: relative;}#sk-container-id-3 div.sk-item::before, #sk-container-id-3 div.sk-parallel-item::before {content: \"\";position: absolute;border-left: 1px solid gray;box-sizing: border-box;top: 0;bottom: 0;left: 50%;z-index: -1;}#sk-container-id-3 div.sk-parallel-item {display: flex;flex-direction: column;z-index: 1;position: relative;background-color: white;}#sk-container-id-3 div.sk-parallel-item:first-child::after {align-self: flex-end;width: 50%;}#sk-container-id-3 div.sk-parallel-item:last-child::after {align-self: flex-start;width: 50%;}#sk-container-id-3 div.sk-parallel-item:only-child::after {width: 0;}#sk-container-id-3 div.sk-dashed-wrapped {border: 1px dashed gray;margin: 0 0.4em 0.5em 0.4em;box-sizing: border-box;padding-bottom: 0.4em;background-color: white;}#sk-container-id-3 div.sk-label label {font-family: monospace;font-weight: bold;display: inline-block;line-height: 1.2em;}#sk-container-id-3 div.sk-label-container {text-align: center;}#sk-container-id-3 div.sk-container {/* jupyter's `normalize.less` sets `[hidden] { display: none; }` but bootstrap.min.css set `[hidden] { display: none !important; }` so we also need the `!important` here to be able to override the default hidden behavior on the sphinx rendered scikit-learn.org. See: https://github.com/scikit-learn/scikit-learn/issues/21755 */display: inline-block !important;position: relative;}#sk-container-id-3 div.sk-text-repr-fallback {display: none;}</style><div id=\"sk-container-id-3\" class=\"sk-top-container\"><div class=\"sk-text-repr-fallback\"><pre>LinearRegression()</pre><b>In a Jupyter environment, please rerun this cell to show the HTML representation or trust the notebook. <br />On GitHub, the HTML representation is unable to render, please try loading this page with nbviewer.org.</b></div><div class=\"sk-container\" hidden><div class=\"sk-item\"><div class=\"sk-estimator sk-toggleable\"><input class=\"sk-toggleable__control sk-hidden--visually\" id=\"sk-estimator-id-3\" type=\"checkbox\" checked><label for=\"sk-estimator-id-3\" class=\"sk-toggleable__label sk-toggleable__label-arrow\">LinearRegression</label><div class=\"sk-toggleable__content\"><pre>LinearRegression()</pre></div></div></div></div></div>"
      ],
      "text/plain": [
       "LinearRegression()"
      ]
     },
     "execution_count": 13,
     "metadata": {},
     "output_type": "execute_result"
    }
   ],
   "source": [
    "from sklearn.linear_model import LinearRegression\n",
    "model = LinearRegression()\n",
    "model.fit(X_train, y_train)"
   ]
  },
  {
   "cell_type": "code",
   "execution_count": 14,
   "id": "aa13d5f6-f5f8-41fb-bb29-e961c6e00882",
   "metadata": {},
   "outputs": [
    {
     "data": {
      "text/plain": [
       "0.4433297575470463"
      ]
     },
     "execution_count": 14,
     "metadata": {},
     "output_type": "execute_result"
    }
   ],
   "source": [
    "from sklearn.metrics import r2_score\n",
    "y_pred = model.predict(X_test)\n",
    "r2_score(y_test, y_pred)"
   ]
  },
  {
   "cell_type": "markdown",
   "id": "3b0d5d1d-8b1e-42aa-bec8-36999511c992",
   "metadata": {},
   "source": [
    "# Lasso"
   ]
  },
  {
   "cell_type": "code",
   "execution_count": 15,
   "id": "f56f559c-f482-4ba5-b314-1ccb71b22667",
   "metadata": {},
   "outputs": [
    {
     "data": {
      "text/html": [
       "<style>#sk-container-id-4 {color: black;background-color: white;}#sk-container-id-4 pre{padding: 0;}#sk-container-id-4 div.sk-toggleable {background-color: white;}#sk-container-id-4 label.sk-toggleable__label {cursor: pointer;display: block;width: 100%;margin-bottom: 0;padding: 0.3em;box-sizing: border-box;text-align: center;}#sk-container-id-4 label.sk-toggleable__label-arrow:before {content: \"▸\";float: left;margin-right: 0.25em;color: #696969;}#sk-container-id-4 label.sk-toggleable__label-arrow:hover:before {color: black;}#sk-container-id-4 div.sk-estimator:hover label.sk-toggleable__label-arrow:before {color: black;}#sk-container-id-4 div.sk-toggleable__content {max-height: 0;max-width: 0;overflow: hidden;text-align: left;background-color: #f0f8ff;}#sk-container-id-4 div.sk-toggleable__content pre {margin: 0.2em;color: black;border-radius: 0.25em;background-color: #f0f8ff;}#sk-container-id-4 input.sk-toggleable__control:checked~div.sk-toggleable__content {max-height: 200px;max-width: 100%;overflow: auto;}#sk-container-id-4 input.sk-toggleable__control:checked~label.sk-toggleable__label-arrow:before {content: \"▾\";}#sk-container-id-4 div.sk-estimator input.sk-toggleable__control:checked~label.sk-toggleable__label {background-color: #d4ebff;}#sk-container-id-4 div.sk-label input.sk-toggleable__control:checked~label.sk-toggleable__label {background-color: #d4ebff;}#sk-container-id-4 input.sk-hidden--visually {border: 0;clip: rect(1px 1px 1px 1px);clip: rect(1px, 1px, 1px, 1px);height: 1px;margin: -1px;overflow: hidden;padding: 0;position: absolute;width: 1px;}#sk-container-id-4 div.sk-estimator {font-family: monospace;background-color: #f0f8ff;border: 1px dotted black;border-radius: 0.25em;box-sizing: border-box;margin-bottom: 0.5em;}#sk-container-id-4 div.sk-estimator:hover {background-color: #d4ebff;}#sk-container-id-4 div.sk-parallel-item::after {content: \"\";width: 100%;border-bottom: 1px solid gray;flex-grow: 1;}#sk-container-id-4 div.sk-label:hover label.sk-toggleable__label {background-color: #d4ebff;}#sk-container-id-4 div.sk-serial::before {content: \"\";position: absolute;border-left: 1px solid gray;box-sizing: border-box;top: 0;bottom: 0;left: 50%;z-index: 0;}#sk-container-id-4 div.sk-serial {display: flex;flex-direction: column;align-items: center;background-color: white;padding-right: 0.2em;padding-left: 0.2em;position: relative;}#sk-container-id-4 div.sk-item {position: relative;z-index: 1;}#sk-container-id-4 div.sk-parallel {display: flex;align-items: stretch;justify-content: center;background-color: white;position: relative;}#sk-container-id-4 div.sk-item::before, #sk-container-id-4 div.sk-parallel-item::before {content: \"\";position: absolute;border-left: 1px solid gray;box-sizing: border-box;top: 0;bottom: 0;left: 50%;z-index: -1;}#sk-container-id-4 div.sk-parallel-item {display: flex;flex-direction: column;z-index: 1;position: relative;background-color: white;}#sk-container-id-4 div.sk-parallel-item:first-child::after {align-self: flex-end;width: 50%;}#sk-container-id-4 div.sk-parallel-item:last-child::after {align-self: flex-start;width: 50%;}#sk-container-id-4 div.sk-parallel-item:only-child::after {width: 0;}#sk-container-id-4 div.sk-dashed-wrapped {border: 1px dashed gray;margin: 0 0.4em 0.5em 0.4em;box-sizing: border-box;padding-bottom: 0.4em;background-color: white;}#sk-container-id-4 div.sk-label label {font-family: monospace;font-weight: bold;display: inline-block;line-height: 1.2em;}#sk-container-id-4 div.sk-label-container {text-align: center;}#sk-container-id-4 div.sk-container {/* jupyter's `normalize.less` sets `[hidden] { display: none; }` but bootstrap.min.css set `[hidden] { display: none !important; }` so we also need the `!important` here to be able to override the default hidden behavior on the sphinx rendered scikit-learn.org. See: https://github.com/scikit-learn/scikit-learn/issues/21755 */display: inline-block !important;position: relative;}#sk-container-id-4 div.sk-text-repr-fallback {display: none;}</style><div id=\"sk-container-id-4\" class=\"sk-top-container\"><div class=\"sk-text-repr-fallback\"><pre>Lasso()</pre><b>In a Jupyter environment, please rerun this cell to show the HTML representation or trust the notebook. <br />On GitHub, the HTML representation is unable to render, please try loading this page with nbviewer.org.</b></div><div class=\"sk-container\" hidden><div class=\"sk-item\"><div class=\"sk-estimator sk-toggleable\"><input class=\"sk-toggleable__control sk-hidden--visually\" id=\"sk-estimator-id-4\" type=\"checkbox\" checked><label for=\"sk-estimator-id-4\" class=\"sk-toggleable__label sk-toggleable__label-arrow\">Lasso</label><div class=\"sk-toggleable__content\"><pre>Lasso()</pre></div></div></div></div></div>"
      ],
      "text/plain": [
       "Lasso()"
      ]
     },
     "execution_count": 15,
     "metadata": {},
     "output_type": "execute_result"
    }
   ],
   "source": [
    "from sklearn.linear_model import Lasso\n",
    "lasso = Lasso()\n",
    "lasso.fit(X_train, y_train)"
   ]
  },
  {
   "cell_type": "code",
   "execution_count": 16,
   "id": "fdfd95c6-1cd0-4623-a9a3-48ca403e5358",
   "metadata": {},
   "outputs": [
    {
     "data": {
      "text/plain": [
       "0.6041586143068352"
      ]
     },
     "execution_count": 16,
     "metadata": {},
     "output_type": "execute_result"
    }
   ],
   "source": [
    "y_pred_lasso = lasso.predict(X_test)\n",
    "r2_score(y_test, y_pred_lasso)"
   ]
  },
  {
   "cell_type": "markdown",
   "id": "6be16849-f76a-4283-83bc-cfe61315c7ac",
   "metadata": {},
   "source": [
    "# Gender Separated data"
   ]
  },
  {
   "cell_type": "code",
   "execution_count": 17,
   "id": "f79cec97-cbb4-4158-8702-27ed073a7009",
   "metadata": {},
   "outputs": [],
   "source": [
    "males = data[data['SEX'] == 'Male']\n",
    "females = data[data['SEX'] == 'Female']"
   ]
  },
  {
   "cell_type": "code",
   "execution_count": 18,
   "id": "725f1701-163f-43e4-b358-178dc3f03241",
   "metadata": {},
   "outputs": [],
   "source": [
    "X_males = males.drop(['SEX', 'Diabet', 'Simplified_class', 'Age'], axis=1)\n",
    "y_males = males.Age\n",
    "X_females = females.drop(['SEX', 'Diabet', 'Simplified_class', 'Age'], axis=1)\n",
    "y_females = females.Age"
   ]
  },
  {
   "cell_type": "code",
   "execution_count": 19,
   "id": "8f14a803-25fe-41ab-ad42-79be689f98b8",
   "metadata": {},
   "outputs": [],
   "source": [
    "X_males_train, X_males_test, y_males_train, y_males_test = train_test_split(X_males, y_males, random_state=24, test_size=0.2)\n",
    "X_females_train, X_females_test, y_females_train, y_females_test = train_test_split(X_females, y_females, random_state=24, test_size=0.2)"
   ]
  },
  {
   "cell_type": "code",
   "execution_count": 20,
   "id": "34d042f6-73cf-4af3-a556-bf12327cc33e",
   "metadata": {},
   "outputs": [
    {
     "data": {
      "text/plain": [
       "-0.15896219502555442"
      ]
     },
     "execution_count": 20,
     "metadata": {},
     "output_type": "execute_result"
    }
   ],
   "source": [
    "males_lr = LinearRegression()\n",
    "males_lr.fit(X_males_train, y_males_train)\n",
    "y_males_pred = males_lr.predict(X_males_test)\n",
    "r2_score(y_males_test, y_males_pred)"
   ]
  },
  {
   "cell_type": "code",
   "execution_count": 21,
   "id": "d05c3cd1-8ee1-4f92-9418-b0e6e5b9a0cb",
   "metadata": {},
   "outputs": [
    {
     "data": {
      "text/plain": [
       "0.3744351769733856"
      ]
     },
     "execution_count": 21,
     "metadata": {},
     "output_type": "execute_result"
    }
   ],
   "source": [
    "females_lr = LinearRegression()\n",
    "females_lr.fit(X_females_train, y_females_train)\n",
    "y_females_pred = females_lr.predict(X_females_test)\n",
    "r2_score(y_females_test, y_females_pred)"
   ]
  },
  {
   "cell_type": "code",
   "execution_count": null,
   "id": "67c56d8e-f11f-4d2a-a7ae-e5cf56c33d76",
   "metadata": {},
   "outputs": [],
   "source": [
    "import pickle\n",
    "with open('linear_regression.pkl', 'wb') as f:\n",
    "    pickle.dump(model, f)\n",
    "with open('lasso.pkl', 'wb') as f:\n",
    "    pickle.dump(lasso, f)\n",
    "with open('males_lr.pkl', 'wb') as f:\n",
    "    pickle.dump(males_lr, f)\n",
    "with open('females_lr.pkl', 'wb') as f:\n",
    "    pickle.dump(females_lr, f)"
   ]
  }
 ],
 "metadata": {
  "kernelspec": {
   "display_name": "Python 3 (ipykernel)",
   "language": "python",
   "name": "python3"
  },
  "language_info": {
   "codemirror_mode": {
    "name": "ipython",
    "version": 3
   },
   "file_extension": ".py",
   "mimetype": "text/x-python",
   "name": "python",
   "nbconvert_exporter": "python",
   "pygments_lexer": "ipython3",
   "version": "3.11.7"
  }
 },
 "nbformat": 4,
 "nbformat_minor": 5
}
