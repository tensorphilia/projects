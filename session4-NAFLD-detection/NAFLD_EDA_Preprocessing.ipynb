{
 "cells": [
  {
   "cell_type": "code",
   "execution_count": 1,
   "id": "d54a3eac-7e8d-4f07-b2f2-cd83a4f51d0f",
   "metadata": {},
   "outputs": [],
   "source": [
    "import numpy as np\n",
    "import pandas as pd"
   ]
  },
  {
   "cell_type": "markdown",
   "id": "6265bc06-95a5-4016-8971-433d95f9d85a",
   "metadata": {},
   "source": [
    "# RNA-Seq Data"
   ]
  },
  {
   "cell_type": "markdown",
   "id": "c5409276-47e8-4923-a9e5-3ba7f08474cb",
   "metadata": {},
   "source": [
    "First, we load the data:"
   ]
  },
  {
   "cell_type": "code",
   "execution_count": 2,
   "id": "3d89851d-6464-4dd6-a70f-a3085ebd75fc",
   "metadata": {},
   "outputs": [],
   "source": [
    "data = pd.read_csv('normal_counts.txt', sep='\\t')"
   ]
  },
  {
   "cell_type": "code",
   "execution_count": 3,
   "id": "c1545d62-bd9f-4ce9-91e3-77e664115120",
   "metadata": {},
   "outputs": [
    {
     "data": {
      "text/html": [
       "<div>\n",
       "<style scoped>\n",
       "    .dataframe tbody tr th:only-of-type {\n",
       "        vertical-align: middle;\n",
       "    }\n",
       "\n",
       "    .dataframe tbody tr th {\n",
       "        vertical-align: top;\n",
       "    }\n",
       "\n",
       "    .dataframe thead th {\n",
       "        text-align: right;\n",
       "    }\n",
       "</style>\n",
       "<table border=\"1\" class=\"dataframe\">\n",
       "  <thead>\n",
       "    <tr style=\"text-align: right;\">\n",
       "      <th></th>\n",
       "      <th>gene</th>\n",
       "      <th>DLDR_0001</th>\n",
       "      <th>DLDR_0002</th>\n",
       "      <th>DLDR_0003</th>\n",
       "      <th>DLDR_0004</th>\n",
       "      <th>DLDR_0005</th>\n",
       "      <th>DLDR_0006</th>\n",
       "      <th>DLDR_0007</th>\n",
       "      <th>DLDR_0008</th>\n",
       "      <th>DLDR_0009</th>\n",
       "      <th>...</th>\n",
       "      <th>DLDR_0184</th>\n",
       "      <th>DLDR_0185</th>\n",
       "      <th>DLDR_0186</th>\n",
       "      <th>DLDR_0187</th>\n",
       "      <th>DLDR_0188</th>\n",
       "      <th>DLDR_0189</th>\n",
       "      <th>DLDR_0190</th>\n",
       "      <th>DLDR_0191</th>\n",
       "      <th>DLDR_0192</th>\n",
       "      <th>DLDR_1017</th>\n",
       "    </tr>\n",
       "  </thead>\n",
       "  <tbody>\n",
       "    <tr>\n",
       "      <th>0</th>\n",
       "      <td>ENSG00000000003</td>\n",
       "      <td>5.965571</td>\n",
       "      <td>5.741587</td>\n",
       "      <td>5.996891</td>\n",
       "      <td>5.551919</td>\n",
       "      <td>6.430237</td>\n",
       "      <td>6.234619</td>\n",
       "      <td>6.071503</td>\n",
       "      <td>6.441882</td>\n",
       "      <td>5.752712</td>\n",
       "      <td>...</td>\n",
       "      <td>6.576246</td>\n",
       "      <td>6.735760</td>\n",
       "      <td>6.344234</td>\n",
       "      <td>6.608924</td>\n",
       "      <td>6.480745</td>\n",
       "      <td>6.360397</td>\n",
       "      <td>6.367705</td>\n",
       "      <td>6.604050</td>\n",
       "      <td>6.514539</td>\n",
       "      <td>6.725338</td>\n",
       "    </tr>\n",
       "    <tr>\n",
       "      <th>1</th>\n",
       "      <td>ENSG00000000005</td>\n",
       "      <td>1.612375</td>\n",
       "      <td>2.147793</td>\n",
       "      <td>0.418542</td>\n",
       "      <td>0.702492</td>\n",
       "      <td>1.215978</td>\n",
       "      <td>0.920810</td>\n",
       "      <td>0.458163</td>\n",
       "      <td>0.927224</td>\n",
       "      <td>1.089389</td>\n",
       "      <td>...</td>\n",
       "      <td>-1.091275</td>\n",
       "      <td>-0.942637</td>\n",
       "      <td>-0.026585</td>\n",
       "      <td>-0.757399</td>\n",
       "      <td>-1.083676</td>\n",
       "      <td>0.886550</td>\n",
       "      <td>-0.902201</td>\n",
       "      <td>-0.865036</td>\n",
       "      <td>-1.588749</td>\n",
       "      <td>-0.922976</td>\n",
       "    </tr>\n",
       "    <tr>\n",
       "      <th>2</th>\n",
       "      <td>ENSG00000000419</td>\n",
       "      <td>4.133821</td>\n",
       "      <td>4.120969</td>\n",
       "      <td>4.086129</td>\n",
       "      <td>4.116240</td>\n",
       "      <td>4.393797</td>\n",
       "      <td>4.390909</td>\n",
       "      <td>4.148242</td>\n",
       "      <td>4.554655</td>\n",
       "      <td>4.203819</td>\n",
       "      <td>...</td>\n",
       "      <td>4.244459</td>\n",
       "      <td>4.342765</td>\n",
       "      <td>4.179319</td>\n",
       "      <td>4.274450</td>\n",
       "      <td>4.361634</td>\n",
       "      <td>4.093280</td>\n",
       "      <td>4.148010</td>\n",
       "      <td>4.351489</td>\n",
       "      <td>3.859711</td>\n",
       "      <td>4.506480</td>\n",
       "    </tr>\n",
       "    <tr>\n",
       "      <th>3</th>\n",
       "      <td>ENSG00000000457</td>\n",
       "      <td>4.111056</td>\n",
       "      <td>3.922234</td>\n",
       "      <td>3.964871</td>\n",
       "      <td>3.978350</td>\n",
       "      <td>4.018235</td>\n",
       "      <td>3.864521</td>\n",
       "      <td>4.263119</td>\n",
       "      <td>3.896271</td>\n",
       "      <td>4.139546</td>\n",
       "      <td>...</td>\n",
       "      <td>4.453838</td>\n",
       "      <td>4.685598</td>\n",
       "      <td>4.438796</td>\n",
       "      <td>4.042577</td>\n",
       "      <td>4.313540</td>\n",
       "      <td>4.205119</td>\n",
       "      <td>4.506058</td>\n",
       "      <td>4.072137</td>\n",
       "      <td>4.341988</td>\n",
       "      <td>4.121418</td>\n",
       "    </tr>\n",
       "    <tr>\n",
       "      <th>4</th>\n",
       "      <td>ENSG00000000460</td>\n",
       "      <td>4.150662</td>\n",
       "      <td>3.732756</td>\n",
       "      <td>3.634637</td>\n",
       "      <td>3.853979</td>\n",
       "      <td>3.614220</td>\n",
       "      <td>3.500857</td>\n",
       "      <td>4.000565</td>\n",
       "      <td>4.016287</td>\n",
       "      <td>3.904500</td>\n",
       "      <td>...</td>\n",
       "      <td>3.720038</td>\n",
       "      <td>4.640011</td>\n",
       "      <td>3.814717</td>\n",
       "      <td>2.126408</td>\n",
       "      <td>3.120196</td>\n",
       "      <td>3.336802</td>\n",
       "      <td>3.982071</td>\n",
       "      <td>3.143138</td>\n",
       "      <td>2.741172</td>\n",
       "      <td>3.164486</td>\n",
       "    </tr>\n",
       "  </tbody>\n",
       "</table>\n",
       "<p>5 rows × 193 columns</p>\n",
       "</div>"
      ],
      "text/plain": [
       "              gene  DLDR_0001  DLDR_0002  DLDR_0003  DLDR_0004  DLDR_0005  \\\n",
       "0  ENSG00000000003   5.965571   5.741587   5.996891   5.551919   6.430237   \n",
       "1  ENSG00000000005   1.612375   2.147793   0.418542   0.702492   1.215978   \n",
       "2  ENSG00000000419   4.133821   4.120969   4.086129   4.116240   4.393797   \n",
       "3  ENSG00000000457   4.111056   3.922234   3.964871   3.978350   4.018235   \n",
       "4  ENSG00000000460   4.150662   3.732756   3.634637   3.853979   3.614220   \n",
       "\n",
       "   DLDR_0006  DLDR_0007  DLDR_0008  DLDR_0009  ...  DLDR_0184  DLDR_0185  \\\n",
       "0   6.234619   6.071503   6.441882   5.752712  ...   6.576246   6.735760   \n",
       "1   0.920810   0.458163   0.927224   1.089389  ...  -1.091275  -0.942637   \n",
       "2   4.390909   4.148242   4.554655   4.203819  ...   4.244459   4.342765   \n",
       "3   3.864521   4.263119   3.896271   4.139546  ...   4.453838   4.685598   \n",
       "4   3.500857   4.000565   4.016287   3.904500  ...   3.720038   4.640011   \n",
       "\n",
       "   DLDR_0186  DLDR_0187  DLDR_0188  DLDR_0189  DLDR_0190  DLDR_0191  \\\n",
       "0   6.344234   6.608924   6.480745   6.360397   6.367705   6.604050   \n",
       "1  -0.026585  -0.757399  -1.083676   0.886550  -0.902201  -0.865036   \n",
       "2   4.179319   4.274450   4.361634   4.093280   4.148010   4.351489   \n",
       "3   4.438796   4.042577   4.313540   4.205119   4.506058   4.072137   \n",
       "4   3.814717   2.126408   3.120196   3.336802   3.982071   3.143138   \n",
       "\n",
       "   DLDR_0192  DLDR_1017  \n",
       "0   6.514539   6.725338  \n",
       "1  -1.588749  -0.922976  \n",
       "2   3.859711   4.506480  \n",
       "3   4.341988   4.121418  \n",
       "4   2.741172   3.164486  \n",
       "\n",
       "[5 rows x 193 columns]"
      ]
     },
     "execution_count": 3,
     "metadata": {},
     "output_type": "execute_result"
    }
   ],
   "source": [
    "data.head()"
   ]
  },
  {
   "cell_type": "code",
   "execution_count": 4,
   "id": "b671fcd7-0847-42db-818e-a1b44ca00b0f",
   "metadata": {},
   "outputs": [
    {
     "data": {
      "text/plain": [
       "0"
      ]
     },
     "execution_count": 4,
     "metadata": {},
     "output_type": "execute_result"
    }
   ],
   "source": [
    "# check for any missing values\n",
    "data.isna().sum().sum()"
   ]
  },
  {
   "cell_type": "code",
   "execution_count": 5,
   "id": "b1720701-a491-4a2b-b1c1-6506b2488f7f",
   "metadata": {},
   "outputs": [
    {
     "data": {
      "text/plain": [
       "False"
      ]
     },
     "execution_count": 5,
     "metadata": {},
     "output_type": "execute_result"
    }
   ],
   "source": [
    "# check for duplicate columns\n",
    "any(data.T.duplicated())"
   ]
  },
  {
   "cell_type": "code",
   "execution_count": 6,
   "id": "219e969c-ea42-408b-ac4d-53897de39824",
   "metadata": {},
   "outputs": [],
   "source": [
    "# rename columns\n",
    "data.rename(columns={'gene': 'sample', 'DLDR_1017': 'DLDR_0117'}, inplace=True) "
   ]
  },
  {
   "cell_type": "code",
   "execution_count": 7,
   "id": "1b665e20-471f-426b-b340-db17ebe36b14",
   "metadata": {
    "scrolled": true
   },
   "outputs": [
    {
     "data": {
      "text/html": [
       "<div>\n",
       "<style scoped>\n",
       "    .dataframe tbody tr th:only-of-type {\n",
       "        vertical-align: middle;\n",
       "    }\n",
       "\n",
       "    .dataframe tbody tr th {\n",
       "        vertical-align: top;\n",
       "    }\n",
       "\n",
       "    .dataframe thead th {\n",
       "        text-align: right;\n",
       "    }\n",
       "</style>\n",
       "<table border=\"1\" class=\"dataframe\">\n",
       "  <thead>\n",
       "    <tr style=\"text-align: right;\">\n",
       "      <th>sample</th>\n",
       "      <th>ENSG00000000003</th>\n",
       "      <th>ENSG00000000005</th>\n",
       "      <th>ENSG00000000419</th>\n",
       "      <th>ENSG00000000457</th>\n",
       "      <th>ENSG00000000460</th>\n",
       "      <th>ENSG00000000938</th>\n",
       "      <th>ENSG00000000971</th>\n",
       "      <th>ENSG00000001036</th>\n",
       "      <th>ENSG00000001084</th>\n",
       "      <th>ENSG00000001167</th>\n",
       "      <th>...</th>\n",
       "      <th>ENSG00000272325</th>\n",
       "      <th>ENSG00000272414</th>\n",
       "      <th>ENSG00000272442</th>\n",
       "      <th>ENSG00000272658</th>\n",
       "      <th>ENSG00000272869</th>\n",
       "      <th>ENSG00000273079</th>\n",
       "      <th>ENSG00000273173</th>\n",
       "      <th>ENSG00000273259</th>\n",
       "      <th>ENSG00000273274</th>\n",
       "      <th>ENSG00000273294</th>\n",
       "    </tr>\n",
       "  </thead>\n",
       "  <tbody>\n",
       "    <tr>\n",
       "      <th>DLDR_0001</th>\n",
       "      <td>5.965571</td>\n",
       "      <td>1.612375</td>\n",
       "      <td>4.133821</td>\n",
       "      <td>4.111056</td>\n",
       "      <td>4.150662</td>\n",
       "      <td>2.975845</td>\n",
       "      <td>11.005488</td>\n",
       "      <td>4.405768</td>\n",
       "      <td>6.825329</td>\n",
       "      <td>4.221450</td>\n",
       "      <td>...</td>\n",
       "      <td>4.727229</td>\n",
       "      <td>-0.005377</td>\n",
       "      <td>1.546032</td>\n",
       "      <td>1.365460</td>\n",
       "      <td>0.691230</td>\n",
       "      <td>5.637483</td>\n",
       "      <td>-0.005377</td>\n",
       "      <td>1.675800</td>\n",
       "      <td>2.683536</td>\n",
       "      <td>-0.339797</td>\n",
       "    </tr>\n",
       "    <tr>\n",
       "      <th>DLDR_0002</th>\n",
       "      <td>5.741587</td>\n",
       "      <td>2.147793</td>\n",
       "      <td>4.120969</td>\n",
       "      <td>3.922234</td>\n",
       "      <td>3.732756</td>\n",
       "      <td>3.199989</td>\n",
       "      <td>10.860700</td>\n",
       "      <td>3.895350</td>\n",
       "      <td>6.453687</td>\n",
       "      <td>4.218183</td>\n",
       "      <td>...</td>\n",
       "      <td>4.210933</td>\n",
       "      <td>-0.515172</td>\n",
       "      <td>1.806756</td>\n",
       "      <td>0.935490</td>\n",
       "      <td>1.004202</td>\n",
       "      <td>5.975612</td>\n",
       "      <td>0.532134</td>\n",
       "      <td>1.555218</td>\n",
       "      <td>2.926666</td>\n",
       "      <td>0.435919</td>\n",
       "    </tr>\n",
       "    <tr>\n",
       "      <th>DLDR_0003</th>\n",
       "      <td>5.996891</td>\n",
       "      <td>0.418542</td>\n",
       "      <td>4.086129</td>\n",
       "      <td>3.964871</td>\n",
       "      <td>3.634637</td>\n",
       "      <td>2.949733</td>\n",
       "      <td>10.934025</td>\n",
       "      <td>4.282577</td>\n",
       "      <td>6.437658</td>\n",
       "      <td>3.736947</td>\n",
       "      <td>...</td>\n",
       "      <td>4.501859</td>\n",
       "      <td>-0.546693</td>\n",
       "      <td>1.127079</td>\n",
       "      <td>0.675699</td>\n",
       "      <td>0.943633</td>\n",
       "      <td>5.531648</td>\n",
       "      <td>-0.184123</td>\n",
       "      <td>2.391906</td>\n",
       "      <td>2.260662</td>\n",
       "      <td>-0.691083</td>\n",
       "    </tr>\n",
       "    <tr>\n",
       "      <th>DLDR_0004</th>\n",
       "      <td>5.551919</td>\n",
       "      <td>0.702492</td>\n",
       "      <td>4.116240</td>\n",
       "      <td>3.978350</td>\n",
       "      <td>3.853979</td>\n",
       "      <td>2.991061</td>\n",
       "      <td>10.760445</td>\n",
       "      <td>4.297722</td>\n",
       "      <td>6.710840</td>\n",
       "      <td>4.003661</td>\n",
       "      <td>...</td>\n",
       "      <td>4.770425</td>\n",
       "      <td>2.538993</td>\n",
       "      <td>1.301129</td>\n",
       "      <td>0.702492</td>\n",
       "      <td>0.431190</td>\n",
       "      <td>5.571799</td>\n",
       "      <td>-0.034474</td>\n",
       "      <td>1.639298</td>\n",
       "      <td>2.341393</td>\n",
       "      <td>0.096771</td>\n",
       "    </tr>\n",
       "    <tr>\n",
       "      <th>DLDR_0005</th>\n",
       "      <td>6.430237</td>\n",
       "      <td>1.215978</td>\n",
       "      <td>4.393797</td>\n",
       "      <td>4.018235</td>\n",
       "      <td>3.614220</td>\n",
       "      <td>2.836130</td>\n",
       "      <td>11.491427</td>\n",
       "      <td>4.405558</td>\n",
       "      <td>7.437655</td>\n",
       "      <td>4.377965</td>\n",
       "      <td>...</td>\n",
       "      <td>4.659126</td>\n",
       "      <td>-1.216981</td>\n",
       "      <td>0.161530</td>\n",
       "      <td>0.898496</td>\n",
       "      <td>0.085581</td>\n",
       "      <td>5.636848</td>\n",
       "      <td>-1.216981</td>\n",
       "      <td>1.974160</td>\n",
       "      <td>1.351861</td>\n",
       "      <td>-0.079478</td>\n",
       "    </tr>\n",
       "  </tbody>\n",
       "</table>\n",
       "<p>5 rows × 17396 columns</p>\n",
       "</div>"
      ],
      "text/plain": [
       "sample     ENSG00000000003  ENSG00000000005  ENSG00000000419  ENSG00000000457  \\\n",
       "DLDR_0001         5.965571         1.612375         4.133821         4.111056   \n",
       "DLDR_0002         5.741587         2.147793         4.120969         3.922234   \n",
       "DLDR_0003         5.996891         0.418542         4.086129         3.964871   \n",
       "DLDR_0004         5.551919         0.702492         4.116240         3.978350   \n",
       "DLDR_0005         6.430237         1.215978         4.393797         4.018235   \n",
       "\n",
       "sample     ENSG00000000460  ENSG00000000938  ENSG00000000971  ENSG00000001036  \\\n",
       "DLDR_0001         4.150662         2.975845        11.005488         4.405768   \n",
       "DLDR_0002         3.732756         3.199989        10.860700         3.895350   \n",
       "DLDR_0003         3.634637         2.949733        10.934025         4.282577   \n",
       "DLDR_0004         3.853979         2.991061        10.760445         4.297722   \n",
       "DLDR_0005         3.614220         2.836130        11.491427         4.405558   \n",
       "\n",
       "sample     ENSG00000001084  ENSG00000001167  ...  ENSG00000272325  \\\n",
       "DLDR_0001         6.825329         4.221450  ...         4.727229   \n",
       "DLDR_0002         6.453687         4.218183  ...         4.210933   \n",
       "DLDR_0003         6.437658         3.736947  ...         4.501859   \n",
       "DLDR_0004         6.710840         4.003661  ...         4.770425   \n",
       "DLDR_0005         7.437655         4.377965  ...         4.659126   \n",
       "\n",
       "sample     ENSG00000272414  ENSG00000272442  ENSG00000272658  ENSG00000272869  \\\n",
       "DLDR_0001        -0.005377         1.546032         1.365460         0.691230   \n",
       "DLDR_0002        -0.515172         1.806756         0.935490         1.004202   \n",
       "DLDR_0003        -0.546693         1.127079         0.675699         0.943633   \n",
       "DLDR_0004         2.538993         1.301129         0.702492         0.431190   \n",
       "DLDR_0005        -1.216981         0.161530         0.898496         0.085581   \n",
       "\n",
       "sample     ENSG00000273079  ENSG00000273173  ENSG00000273259  ENSG00000273274  \\\n",
       "DLDR_0001         5.637483        -0.005377         1.675800         2.683536   \n",
       "DLDR_0002         5.975612         0.532134         1.555218         2.926666   \n",
       "DLDR_0003         5.531648        -0.184123         2.391906         2.260662   \n",
       "DLDR_0004         5.571799        -0.034474         1.639298         2.341393   \n",
       "DLDR_0005         5.636848        -1.216981         1.974160         1.351861   \n",
       "\n",
       "sample     ENSG00000273294  \n",
       "DLDR_0001        -0.339797  \n",
       "DLDR_0002         0.435919  \n",
       "DLDR_0003        -0.691083  \n",
       "DLDR_0004         0.096771  \n",
       "DLDR_0005        -0.079478  \n",
       "\n",
       "[5 rows x 17396 columns]"
      ]
     },
     "execution_count": 7,
     "metadata": {},
     "output_type": "execute_result"
    }
   ],
   "source": [
    "# convert data frame to correct shape\n",
    "data.set_index('sample', inplace=True)\n",
    "data = data.T\n",
    "data.head()"
   ]
  },
  {
   "cell_type": "markdown",
   "id": "34ed96a7-2c7c-4b1a-9802-25f7b0ac3aee",
   "metadata": {},
   "source": [
    "# Meta Data"
   ]
  },
  {
   "cell_type": "code",
   "execution_count": 8,
   "id": "c6fd94fc-221b-49a0-a434-dc520603b18f",
   "metadata": {},
   "outputs": [
    {
     "data": {
      "text/html": [
       "<div>\n",
       "<style scoped>\n",
       "    .dataframe tbody tr th:only-of-type {\n",
       "        vertical-align: middle;\n",
       "    }\n",
       "\n",
       "    .dataframe tbody tr th {\n",
       "        vertical-align: top;\n",
       "    }\n",
       "\n",
       "    .dataframe thead th {\n",
       "        text-align: right;\n",
       "    }\n",
       "</style>\n",
       "<table border=\"1\" class=\"dataframe\">\n",
       "  <thead>\n",
       "    <tr style=\"text-align: right;\">\n",
       "      <th></th>\n",
       "      <th>Patient_ID</th>\n",
       "      <th>SEX</th>\n",
       "      <th>BMI_surg</th>\n",
       "      <th>Age</th>\n",
       "      <th>Run</th>\n",
       "      <th>Diabet</th>\n",
       "      <th>Simplified_class</th>\n",
       "    </tr>\n",
       "  </thead>\n",
       "  <tbody>\n",
       "    <tr>\n",
       "      <th>0</th>\n",
       "      <td>DLDR_0001</td>\n",
       "      <td>Female</td>\n",
       "      <td>35.214555</td>\n",
       "      <td>55</td>\n",
       "      <td>SRR8378590</td>\n",
       "      <td>Non Diabetic</td>\n",
       "      <td>Normal</td>\n",
       "    </tr>\n",
       "    <tr>\n",
       "      <th>1</th>\n",
       "      <td>DLDR_0002</td>\n",
       "      <td>Female</td>\n",
       "      <td>39.421748</td>\n",
       "      <td>47</td>\n",
       "      <td>SRR8378589</td>\n",
       "      <td>Diabetic</td>\n",
       "      <td>Normal</td>\n",
       "    </tr>\n",
       "    <tr>\n",
       "      <th>2</th>\n",
       "      <td>DLDR_0003</td>\n",
       "      <td>Male</td>\n",
       "      <td>48.758108</td>\n",
       "      <td>46</td>\n",
       "      <td>SRR8378432</td>\n",
       "      <td>Non Diabetic</td>\n",
       "      <td>Normal</td>\n",
       "    </tr>\n",
       "    <tr>\n",
       "      <th>3</th>\n",
       "      <td>DLDR_0004</td>\n",
       "      <td>Female</td>\n",
       "      <td>41.822607</td>\n",
       "      <td>36</td>\n",
       "      <td>SRR8378431</td>\n",
       "      <td>Non Diabetic</td>\n",
       "      <td>Normal</td>\n",
       "    </tr>\n",
       "    <tr>\n",
       "      <th>4</th>\n",
       "      <td>DLDR_0005</td>\n",
       "      <td>Female</td>\n",
       "      <td>53.582192</td>\n",
       "      <td>54</td>\n",
       "      <td>SRR8378434</td>\n",
       "      <td>Non Diabetic</td>\n",
       "      <td>Normal</td>\n",
       "    </tr>\n",
       "  </tbody>\n",
       "</table>\n",
       "</div>"
      ],
      "text/plain": [
       "  Patient_ID     SEX   BMI_surg  Age         Run        Diabet  \\\n",
       "0  DLDR_0001  Female  35.214555   55  SRR8378590  Non Diabetic   \n",
       "1  DLDR_0002  Female  39.421748   47  SRR8378589      Diabetic   \n",
       "2  DLDR_0003    Male  48.758108   46  SRR8378432  Non Diabetic   \n",
       "3  DLDR_0004  Female  41.822607   36  SRR8378431  Non Diabetic   \n",
       "4  DLDR_0005  Female  53.582192   54  SRR8378434  Non Diabetic   \n",
       "\n",
       "  Simplified_class  \n",
       "0           Normal  \n",
       "1           Normal  \n",
       "2           Normal  \n",
       "3           Normal  \n",
       "4           Normal  "
      ]
     },
     "execution_count": 8,
     "metadata": {},
     "output_type": "execute_result"
    }
   ],
   "source": [
    "meta_data = pd.read_csv('meta_data.csv')\n",
    "meta_data.head()"
   ]
  },
  {
   "cell_type": "code",
   "execution_count": 9,
   "id": "9c762a4a-997a-4f68-b11a-bd146676149d",
   "metadata": {},
   "outputs": [
    {
     "data": {
      "text/plain": [
       "Patient_ID          0\n",
       "SEX                 0\n",
       "BMI_surg            0\n",
       "Age                 0\n",
       "Run                 0\n",
       "Diabet              0\n",
       "Simplified_class    0\n",
       "dtype: int64"
      ]
     },
     "execution_count": 9,
     "metadata": {},
     "output_type": "execute_result"
    }
   ],
   "source": [
    "meta_data.isna().sum()"
   ]
  },
  {
   "cell_type": "code",
   "execution_count": 10,
   "id": "06edec63-7e72-4786-9d0e-c0d0351787fe",
   "metadata": {
    "scrolled": true
   },
   "outputs": [
    {
     "data": {
      "text/plain": [
       "array(['SRR8378590', 'SRR8378589', 'SRR8378432', 'SRR8378431',\n",
       "       'SRR8378434', 'SRR8378433', 'SRR8378436', 'SRR8378435',\n",
       "       'SRR8378588', 'SRR8378587', 'SRR8378490', 'SRR8378489',\n",
       "       'SRR8378488', 'SRR8378487', 'SRR8378494', 'SRR8378493',\n",
       "       'SRR8378492', 'SRR8378491', 'SRR8378592', 'SRR8378591',\n",
       "       'SRR8378571', 'SRR8378572', 'SRR8378569', 'SRR8378570',\n",
       "       'SRR8378575', 'SRR8378576', 'SRR8378573', 'SRR8378574',\n",
       "       'SRR8378567', 'SRR8378568', 'SRR8378538', 'SRR8378537',\n",
       "       'SRR8378540', 'SRR8378539', 'SRR8378542', 'SRR8378541',\n",
       "       'SRR8378544', 'SRR8378543', 'SRR8378536', 'SRR8378535',\n",
       "       'SRR8378579', 'SRR8378580', 'SRR8378581', 'SRR8378582',\n",
       "       'SRR8378583', 'SRR8378584', 'SRR8378585', 'SRR8378586',\n",
       "       'SRR8378577', 'SRR8378578', 'SRR8378554', 'SRR8378553',\n",
       "       'SRR8378552', 'SRR8378551', 'SRR8378550', 'SRR8378549',\n",
       "       'SRR8378548', 'SRR8378547', 'SRR8378546', 'SRR8378545',\n",
       "       'SRR8378473', 'SRR8378474', 'SRR8378471', 'SRR8378472',\n",
       "       'SRR8378469', 'SRR8378470', 'SRR8378467', 'SRR8378468',\n",
       "       'SRR8378475', 'SRR8378476', 'SRR8378452', 'SRR8378451',\n",
       "       'SRR8378454', 'SRR8378453', 'SRR8378448', 'SRR8378447',\n",
       "       'SRR8378450', 'SRR8378449', 'SRR8378456', 'SRR8378455',\n",
       "       'SRR8378509', 'SRR8378510', 'SRR8378511', 'SRR8378512',\n",
       "       'SRR8378505', 'SRR8378506', 'SRR8378507', 'SRR8378508',\n",
       "       'SRR8378513', 'SRR8378514', 'SRR8378618', 'SRR8378617',\n",
       "       'SRR8378616', 'SRR8378615', 'SRR8378622', 'SRR8378621',\n",
       "       'SRR8378620', 'SRR8378619', 'SRR8378614', 'SRR8378613',\n",
       "       'SRR8378517', 'SRR8378518', 'SRR8378515', 'SRR8378516',\n",
       "       'SRR8378521', 'SRR8378522', 'SRR8378519', 'SRR8378520',\n",
       "       'SRR8378523', 'SRR8378524', 'SRR8378556', 'SRR8378555',\n",
       "       'SRR8378558', 'SRR8378557', 'SRR8378560', 'SRR8378559',\n",
       "       'SRR8378562', 'SRR8378561', 'SRR8378564', 'SRR8378563',\n",
       "       'SRR8378605', 'SRR8378606', 'SRR8378607', 'SRR8378608',\n",
       "       'SRR8378609', 'SRR8378610', 'SRR8378611', 'SRR8378612',\n",
       "       'SRR8378603', 'SRR8378604', 'SRR8378502', 'SRR8378501',\n",
       "       'SRR8378500', 'SRR8378499', 'SRR8378498', 'SRR8378497',\n",
       "       'SRR8378496', 'SRR8378495', 'SRR8378504', 'SRR8378503',\n",
       "       'SRR8378485', 'SRR8378486', 'SRR8378483', 'SRR8378484',\n",
       "       'SRR8378481', 'SRR8378482', 'SRR8378479', 'SRR8378480',\n",
       "       'SRR8378477', 'SRR8378478', 'SRR8378600', 'SRR8378599',\n",
       "       'SRR8378602', 'SRR8378601', 'SRR8378596', 'SRR8378595',\n",
       "       'SRR8378598', 'SRR8378597', 'SRR8378594', 'SRR8378593',\n",
       "       'SRR8378441', 'SRR8378442', 'SRR8378443', 'SRR8378444',\n",
       "       'SRR8378437', 'SRR8378438', 'SRR8378439', 'SRR8378440',\n",
       "       'SRR8378445', 'SRR8378446', 'SRR8378460', 'SRR8378459',\n",
       "       'SRR8378458', 'SRR8378457', 'SRR8378464', 'SRR8378463',\n",
       "       'SRR8378462', 'SRR8378461', 'SRR8378466', 'SRR8378465',\n",
       "       'SRR8378529', 'SRR8378530', 'SRR8378527', 'SRR8378528',\n",
       "       'SRR8378533', 'SRR8378534', 'SRR8378531', 'SRR8378532',\n",
       "       'SRR8378525', 'SRR8378526', 'SRR8378566', 'SRR8378565'],\n",
       "      dtype=object)"
      ]
     },
     "execution_count": 10,
     "metadata": {},
     "output_type": "execute_result"
    }
   ],
   "source": [
    "meta_data.Run.unique()"
   ]
  },
  {
   "cell_type": "code",
   "execution_count": 11,
   "id": "34839531-1ab6-44e4-8bfc-1a1b7fbaf84f",
   "metadata": {},
   "outputs": [
    {
     "data": {
      "text/plain": [
       "192"
      ]
     },
     "execution_count": 11,
     "metadata": {},
     "output_type": "execute_result"
    }
   ],
   "source": [
    "meta_data.Run.nunique()"
   ]
  },
  {
   "cell_type": "code",
   "execution_count": 12,
   "id": "97640e10-a25a-4ff4-8f68-811de4c69a49",
   "metadata": {},
   "outputs": [],
   "source": [
    "import matplotlib.pyplot as plt\n",
    "import seaborn as sns"
   ]
  },
  {
   "cell_type": "code",
   "execution_count": 13,
   "id": "0a710449-bd0b-4e41-8b0b-b6920c2b1a8a",
   "metadata": {},
   "outputs": [
    {
     "data": {
      "text/plain": [
       "Diabet\n",
       "Non Diabetic    115\n",
       "Diabetic         77\n",
       "Name: count, dtype: int64"
      ]
     },
     "execution_count": 13,
     "metadata": {},
     "output_type": "execute_result"
    }
   ],
   "source": [
    "meta_data.Diabet.value_counts()"
   ]
  },
  {
   "cell_type": "code",
   "execution_count": 14,
   "id": "54995d4e-5194-4274-894c-a6a89feb3f53",
   "metadata": {},
   "outputs": [
    {
     "data": {
      "image/png": "[encoded data removed]",
      "text/plain": [
       "<Figure size 640x480 with 1 Axes>"
      ]
     },
     "metadata": {},
     "output_type": "display_data"
    }
   ],
   "source": [
    "meta_data.Diabet.value_counts().plot(kind='bar', color='orange');\n",
    "plt.savefig('diabetes_distribution.png')"
   ]
  },
  {
   "cell_type": "code",
   "execution_count": 15,
   "id": "354cae90-a46d-40f8-b261-9bdf74cf33a6",
   "metadata": {},
   "outputs": [
    {
     "data": {
      "image/png": "[encoded data removed]",
      "text/plain": [
       "<Figure size 640x480 with 1 Axes>"
      ]
     },
     "metadata": {},
     "output_type": "display_data"
    }
   ],
   "source": [
    "meta_data.Simplified_class.value_counts().plot(kind='bar', color='darkorange');\n",
    "plt.savefig('classes_distribution.png')"
   ]
  },
  {
   "cell_type": "code",
   "execution_count": 16,
   "id": "534529ff-50ed-4ea5-9f1a-834953111f67",
   "metadata": {},
   "outputs": [],
   "source": [
    "meta_data.set_index('Patient_ID', inplace=True)"
   ]
  },
  {
   "cell_type": "code",
   "execution_count": 17,
   "id": "0dd5e47a-880a-4ca4-8b78-b5ac0caa900f",
   "metadata": {},
   "outputs": [
    {
     "data": {
      "image/png": "[encoded data removed]",
      "text/plain": [
       "<Figure size 640x480 with 1 Axes>"
      ]
     },
     "metadata": {},
     "output_type": "display_data"
    }
   ],
   "source": [
    "meta_data.SEX.value_counts().plot.bar(color='cyan');\n",
    "plt.savefig('sex_distribution.png')"
   ]
  },
  {
   "cell_type": "code",
   "execution_count": 18,
   "id": "c3d1729c-87e3-4c4a-b1c0-a3bcd7811b05",
   "metadata": {},
   "outputs": [
    {
     "name": "stderr",
     "output_type": "stream",
     "text": [
      "/home/ali/anaconda3/lib/python3.11/site-packages/seaborn/_oldcore.py:1119: FutureWarning: use_inf_as_na option is deprecated and will be removed in a future version. Convert inf values to NaN before operating instead.\n",
      "  with pd.option_context('mode.use_inf_as_na', True):\n"
     ]
    },
    {
     "data": {
      "image/png": "[encoded data removed]",
      "text/plain": [
       "<Figure size 500x500 with 1 Axes>"
      ]
     },
     "metadata": {},
     "output_type": "display_data"
    }
   ],
   "source": [
    "sns.displot(data=meta_data, x='BMI_surg');\n",
    "plt.savefig('data/BMI_distribution.png')"
   ]
  },
  {
   "cell_type": "code",
   "execution_count": 19,
   "id": "4f665c09-94de-4b94-ba47-9fcdea02c33e",
   "metadata": {},
   "outputs": [
    {
     "name": "stderr",
     "output_type": "stream",
     "text": [
      "/home/ali/anaconda3/lib/python3.11/site-packages/seaborn/_oldcore.py:1119: FutureWarning: use_inf_as_na option is deprecated and will be removed in a future version. Convert inf values to NaN before operating instead.\n",
      "  with pd.option_context('mode.use_inf_as_na', True):\n"
     ]
    },
    {
     "data": {
      "image/png": "[encoded data removed]",
      "text/plain": [
       "<Figure size 500x500 with 1 Axes>"
      ]
     },
     "metadata": {},
     "output_type": "display_data"
    }
   ],
   "source": [
    "sns.displot(data=meta_data, x='Age');\n",
    "plt.savefig('data/age_distribution.png')"
   ]
  },
  {
   "cell_type": "code",
   "execution_count": 20,
   "id": "4437cca7-b6f6-4b27-8b23-24086cbc7df7",
   "metadata": {},
   "outputs": [
    {
     "data": {
      "image/png": "[encoded data removed]",
      "text/plain": [
       "<Figure size 640x480 with 1 Axes>"
      ]
     },
     "metadata": {},
     "output_type": "display_data"
    }
   ],
   "source": [
    "sns.violinplot(data=meta_data, x='BMI_surg', y='SEX');\n",
    "plt.savefig('BMI_by_Sex.png')"
   ]
  },
  {
   "cell_type": "code",
   "execution_count": 21,
   "id": "b119b96f-bf44-4b6f-93a5-2b5b94129fc8",
   "metadata": {},
   "outputs": [
    {
     "data": {
      "image/png": "[encoded data removed]",
      "text/plain": [
       "<Figure size 640x480 with 1 Axes>"
      ]
     },
     "metadata": {},
     "output_type": "display_data"
    }
   ],
   "source": [
    "sns.violinplot(data=meta_data, x='Age', y='SEX');\n",
    "plt.savefig('age_by_sex.png')"
   ]
  },
  {
   "cell_type": "code",
   "execution_count": 22,
   "id": "41f25cb1-0959-4696-a724-957c9ca5c09f",
   "metadata": {},
   "outputs": [],
   "source": [
    "meta_data.drop(columns=['Run'], inplace=True)"
   ]
  },
  {
   "cell_type": "markdown",
   "id": "d0e27d77-b5e1-434a-918d-cf47c48d9325",
   "metadata": {},
   "source": [
    "# Merging RNA-Seq and Meta Data"
   ]
  },
  {
   "cell_type": "code",
   "execution_count": 23,
   "id": "9e599d33-5a8b-4554-ab7d-638ab15aec82",
   "metadata": {},
   "outputs": [],
   "source": [
    "whole_data = pd.merge(data, meta_data, left_index=True, right_index=True) # all data including SEX, BMI_surg, Age, Diabet\n",
    "expression_data = whole_data.drop(columns=['SEX' ,'BMI_surg', 'Age', 'Diabet']) # only RNA-Seq data and the target variable"
   ]
  },
  {
   "cell_type": "code",
   "execution_count": 24,
   "id": "fa1594ff-3f8e-47da-b5fb-2af80b9f2beb",
   "metadata": {},
   "outputs": [],
   "source": [
    "# save data for further analysis and modeling\n",
    "whole_data.to_csv('data/whole_data.csv')\n",
    "expression_data.to_csv('data/expression_data.csv')"
   ]
  }
 ],
 "metadata": {
  "kernelspec": {
   "display_name": "Python 3 (ipykernel)",
   "language": "python",
   "name": "python3"
  },
  "language_info": {
   "codemirror_mode": {
    "name": "ipython",
    "version": 3
   },
   "file_extension": ".py",
   "mimetype": "text/x-python",
   "name": "python",
   "nbconvert_exporter": "python",
   "pygments_lexer": "ipython3",
   "version": "3.11.7"
  }
 },
 "nbformat": 4,
 "nbformat_minor": 5
}
